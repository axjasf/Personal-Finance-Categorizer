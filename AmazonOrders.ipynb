{
  "metadata": {
    "language_info": {
      "codemirror_mode": {
        "name": "python",
        "version": 3
      },
      "file_extension": ".py",
      "mimetype": "text/x-python",
      "name": "python",
      "nbconvert_exporter": "python",
      "pygments_lexer": "ipython3",
      "version": "3.8"
    },
    "kernelspec": {
      "name": "python",
      "display_name": "Python (Pyodide)",
      "language": "python"
    },
    "colab": {
      "provenance": [],
      "collapsed_sections": [
        "-b15vK3yJTdu"
      ],
      "toc_visible": true,
      "include_colab_link": true
    }
  },
  "nbformat_minor": 0,
  "nbformat": 4,
  "cells": [
    {
      "cell_type": "markdown",
      "metadata": {
        "id": "view-in-github",
        "colab_type": "text"
      },
      "source": [
        "<a href=\"https://colab.research.google.com/github/axjasf/YNAB-Categorizer/blob/main/AmazonOrders.ipynb\" target=\"_parent\"><img src=\"https://colab.research.google.com/assets/colab-badge.svg\" alt=\"Open In Colab\"/></a>"
      ]
    },
    {
      "cell_type": "markdown",
      "source": [
        "# Setup"
      ],
      "metadata": {
        "id": "Du22rj5WJAb0"
      }
    },
    {
      "cell_type": "markdown",
      "source": [
        "## Libraries"
      ],
      "metadata": {
        "id": "zSnV2jGC81Ro"
      }
    },
    {
      "cell_type": "code",
      "source": [
        "# Installing libraries\n",
        "!pip install fuzzywuzzy\n",
        "!pip install python-Levenshtein"
      ],
      "metadata": {
        "id": "0mAfAsy54qEt"
      },
      "execution_count": null,
      "outputs": []
    },
    {
      "cell_type": "code",
      "source": [
        "# Importing libraries\n",
        "import pandas as pd\n",
        "import numpy as np\n",
        "import os\n",
        "from ipywidgets import widgets\n",
        "from IPython.display import display"
      ],
      "metadata": {
        "trusted": true,
        "id": "LWKyOP3pB2AW"
      },
      "execution_count": 6,
      "outputs": []
    },
    {
      "cell_type": "markdown",
      "source": [
        "## Global Variables"
      ],
      "metadata": {
        "id": "4Ag4BVjA874M"
      }
    },
    {
      "cell_type": "code",
      "source": [
        "### CONSTANTS ###\n",
        "\n",
        "# Major categories\n",
        "category= {\n",
        "    \"grocery\" : \"Food, Sports, Entertainment:Food - Groceries & Errands\"\n",
        "}"
      ],
      "metadata": {
        "id": "D0D3NNJaSwGM"
      },
      "execution_count": null,
      "outputs": []
    },
    {
      "cell_type": "markdown",
      "source": [
        "## Files"
      ],
      "metadata": {
        "id": "qr8Rvkhw5zPm"
      }
    },
    {
      "cell_type": "code",
      "source": [
        "# Mounting Google Drive\n",
        "from google.colab import drive\n",
        "drive.mount('/content/drive')\n",
        "\n",
        "HOME_PATH = \"/content/drive/MyDrive/Colab Notebooks/YNAB/\""
      ],
      "metadata": {
        "colab": {
          "base_uri": "https://localhost:8080/"
        },
        "id": "d6aB9k_ISzED",
        "outputId": "e8a8e231-1a72-4f9e-f119-0292d17be1ef"
      },
      "execution_count": 3,
      "outputs": [
        {
          "output_type": "stream",
          "name": "stdout",
          "text": [
            "Mounted at /content/drive\n"
          ]
        }
      ]
    },
    {
      "cell_type": "code",
      "source": [
        "### Config Files ###\n",
        "\n",
        "CONFIG_PATH = HOME_PATH + \"/config/\"\n",
        "\n",
        "# Read Grocery keywords\n",
        "grocery_keywords_df = pd.read_csv(CONFIG_PATH + 'grocery_keywords.csv')\n",
        "grocery_keywords = grocery_keywords_df.iloc[:, 0].str.lower().tolist()\n",
        "\n",
        "# Checking, if data is valid\n",
        "# grocery_keywords_df.head()"
      ],
      "metadata": {
        "id": "dAgKnqJN6TP-"
      },
      "execution_count": 15,
      "outputs": []
    },
    {
      "cell_type": "code",
      "source": [
        "### Amazon Orders ###\n",
        "\n",
        "TRANSACTIONS_PATH = HOME_PATH + \"/transactions/\"\n",
        "\n",
        "# Read Amazon Order Headers and Items\n",
        "amazon_order_headers_df = pd.read_csv(TRANSACTIONS_PATH + 'amazon_order_headers.csv')\n",
        "amazon_order_items_df = pd.read_csv(TRANSACTIONS_PATH + 'amazon_order_items.csv')\n",
        "\n",
        "# Checking, if data is valid\n",
        "#amazon_order_headers_df.head()\n",
        "#amazon_order_items_df.head()"
      ],
      "metadata": {
        "trusted": true,
        "id": "Y10m-5PyB2AZ"
      },
      "execution_count": null,
      "outputs": []
    },
    {
      "cell_type": "markdown",
      "source": [
        "# PRICING"
      ],
      "metadata": {
        "id": "WtQhVLSHJLlW"
      }
    },
    {
      "cell_type": "code",
      "source": [
        "### PRICE TOTALS CALCULATIONS ###\n",
        "### HEADER ###\n",
        "\n",
        "# Extract the individual payments for one row and put them into columns\n",
        "def extract_individual_payments_into_columns(df, column_name):\n",
        "    # Extract dollar values from the specified column\n",
        "    payments_dollar_values = df[column_name].str.findall(r'\\$(\\d+\\.\\d+)')\n",
        "\n",
        "    # Determine the maximum number of payments in any row\n",
        "    max_payments = payments_dollar_values.apply(len).max()\n",
        "\n",
        "    # Pad the lists to ensure they all have a length of max_payments\n",
        "    padded_payments = payments_dollar_values.apply(lambda x: x + [None] * (max_payments - len(x)))\n",
        "\n",
        "    # Convert the padded lists to a DataFrame with dynamic column names\n",
        "    payment_columns = [f'payment_{i+1}' for i in range(max_payments)]\n",
        "    df[payment_columns] = pd.DataFrame(padded_payments.tolist(), index=df.index)\n",
        "\n",
        "    # Convert string values to float for further analysis if needed\n",
        "    for col in payment_columns:\n",
        "        df[col] = df[col].astype(float)\n",
        "\n",
        "# Apply the function to the original dataframe\n",
        "extract_individual_payments_into_columns(amazon_order_headers, \"payments\")\n",
        "\n",
        "# amazon_order_headers.head()"
      ],
      "metadata": {
        "trusted": true,
        "id": "EYQsABm-B2Aa"
      },
      "execution_count": null,
      "outputs": []
    },
    {
      "cell_type": "code",
      "source": [
        "### PRICE TOTALS CALCULATIONS ###\n",
        "### ITEMS ###\n",
        "\n",
        "# Item Totals (Quantity * Price) #\n",
        "amazon_order_items = amazon_order_items.copy()\n",
        "if amazon_order_items['price'].dtype == 'object':\n",
        "    amazon_order_items['price'] = pd.to_numeric(amazon_order_items['price'].str.replace('[\\$,]', '', regex=True), errors='coerce')\n",
        "amazon_order_items['quantity'] = amazon_order_items['quantity'].replace([' ', ''], np.nan)\n",
        "amazon_order_items['quantity'] = pd.to_numeric(amazon_order_items['quantity'], errors='coerce').fillna(1)\n",
        "amazon_order_items['total'] = amazon_order_items['price'] * amazon_order_items['quantity']\n",
        "\n",
        "### Distribution of taxes etc. to individual order items ###\n",
        "\n",
        "# Group the items dataframe by 'order id' and compute the sum of the 'total' column for each order\n",
        "# Merge the summed items total with the headers dataframe on 'order id'\n",
        "# Convert 'total_header' column to numeric format, setting non-numeric values to NaN\n",
        "# Compute the difference between the 'total' from the headers dataframe and the computed sum of items for each order\n",
        "# Compute the count of items for each order\n",
        "# Merge the count of items with the merged dataframe\n",
        "# Compute the 'overall' value for each order\n",
        "# Merge the 'overall' value with the original items dataframe to create the 'overall' column\n",
        "\n",
        "items_sum = amazon_order_items.groupby('order id')['total'].sum().reset_index()\n",
        "merged_df = amazon_order_headers.merge(items_sum, on='order id', how='left', suffixes=('_header', '_items'))\n",
        "merged_df['total_header'] = pd.to_numeric(merged_df['total_header'].str.replace('[\\$,]', '', regex=True), errors='coerce')\n",
        "merged_df['difference'] = merged_df['total_header'] - merged_df['total_items']\n",
        "items_count = amazon_order_items.groupby('order id').size().reset_index(name='count')\n",
        "merged_df = merged_df.merge(items_count, on='order id', how='left')\n",
        "merged_df['residual'] = merged_df['difference'] / merged_df['count']\n",
        "amazon_order_items = amazon_order_items.merge(merged_df[['order id', 'residual']], on='order id', how='left')\n",
        "amazon_order_items['grand_total'] = amazon_order_items['total'] + amazon_order_items['residual'].round(2)\n",
        "\n",
        "amazon_order_items.head()"
      ],
      "metadata": {
        "colab": {
          "base_uri": "https://localhost:8080/",
          "height": 426
        },
        "id": "EU-bZmWavWB9",
        "outputId": "2750159e-f608-4922-9a48-d35de631d55f"
      },
      "execution_count": null,
      "outputs": [
        {
          "output_type": "error",
          "ename": "AttributeError",
          "evalue": "ignored",
          "traceback": [
            "\u001b[0;31m---------------------------------------------------------------------------\u001b[0m",
            "\u001b[0;31mAttributeError\u001b[0m                            Traceback (most recent call last)",
            "\u001b[0;32m<ipython-input-27-b0c8d0912ca5>\u001b[0m in \u001b[0;36m<cell line: 25>\u001b[0;34m()\u001b[0m\n\u001b[1;32m     23\u001b[0m \u001b[0mitems_sum\u001b[0m \u001b[0;34m=\u001b[0m \u001b[0mamazon_order_items\u001b[0m\u001b[0;34m.\u001b[0m\u001b[0mgroupby\u001b[0m\u001b[0;34m(\u001b[0m\u001b[0;34m'order id'\u001b[0m\u001b[0;34m)\u001b[0m\u001b[0;34m[\u001b[0m\u001b[0;34m'total'\u001b[0m\u001b[0;34m]\u001b[0m\u001b[0;34m.\u001b[0m\u001b[0msum\u001b[0m\u001b[0;34m(\u001b[0m\u001b[0;34m)\u001b[0m\u001b[0;34m.\u001b[0m\u001b[0mreset_index\u001b[0m\u001b[0;34m(\u001b[0m\u001b[0;34m)\u001b[0m\u001b[0;34m\u001b[0m\u001b[0;34m\u001b[0m\u001b[0m\n\u001b[1;32m     24\u001b[0m \u001b[0mmerged_df\u001b[0m \u001b[0;34m=\u001b[0m \u001b[0mamazon_order_headers\u001b[0m\u001b[0;34m.\u001b[0m\u001b[0mmerge\u001b[0m\u001b[0;34m(\u001b[0m\u001b[0mitems_sum\u001b[0m\u001b[0;34m,\u001b[0m \u001b[0mon\u001b[0m\u001b[0;34m=\u001b[0m\u001b[0;34m'order id'\u001b[0m\u001b[0;34m,\u001b[0m \u001b[0mhow\u001b[0m\u001b[0;34m=\u001b[0m\u001b[0;34m'left'\u001b[0m\u001b[0;34m,\u001b[0m \u001b[0msuffixes\u001b[0m\u001b[0;34m=\u001b[0m\u001b[0;34m(\u001b[0m\u001b[0;34m'_header'\u001b[0m\u001b[0;34m,\u001b[0m \u001b[0;34m'_items'\u001b[0m\u001b[0;34m)\u001b[0m\u001b[0;34m)\u001b[0m\u001b[0;34m\u001b[0m\u001b[0;34m\u001b[0m\u001b[0m\n\u001b[0;32m---> 25\u001b[0;31m \u001b[0mmerged_df\u001b[0m\u001b[0;34m[\u001b[0m\u001b[0;34m'total_header'\u001b[0m\u001b[0;34m]\u001b[0m \u001b[0;34m=\u001b[0m \u001b[0mpd\u001b[0m\u001b[0;34m.\u001b[0m\u001b[0mto_numeric\u001b[0m\u001b[0;34m(\u001b[0m\u001b[0mmerged_df\u001b[0m\u001b[0;34m[\u001b[0m\u001b[0;34m'total_header'\u001b[0m\u001b[0;34m]\u001b[0m\u001b[0;34m.\u001b[0m\u001b[0mstr\u001b[0m\u001b[0;34m.\u001b[0m\u001b[0mreplace\u001b[0m\u001b[0;34m(\u001b[0m\u001b[0;34m'[\\$,]'\u001b[0m\u001b[0;34m,\u001b[0m \u001b[0;34m''\u001b[0m\u001b[0;34m,\u001b[0m \u001b[0mregex\u001b[0m\u001b[0;34m=\u001b[0m\u001b[0;32mTrue\u001b[0m\u001b[0;34m)\u001b[0m\u001b[0;34m,\u001b[0m \u001b[0merrors\u001b[0m\u001b[0;34m=\u001b[0m\u001b[0;34m'coerce'\u001b[0m\u001b[0;34m)\u001b[0m\u001b[0;34m\u001b[0m\u001b[0;34m\u001b[0m\u001b[0m\n\u001b[0m\u001b[1;32m     26\u001b[0m \u001b[0mmerged_df\u001b[0m\u001b[0;34m[\u001b[0m\u001b[0;34m'difference'\u001b[0m\u001b[0;34m]\u001b[0m \u001b[0;34m=\u001b[0m \u001b[0mmerged_df\u001b[0m\u001b[0;34m[\u001b[0m\u001b[0;34m'total_header'\u001b[0m\u001b[0;34m]\u001b[0m \u001b[0;34m-\u001b[0m \u001b[0mmerged_df\u001b[0m\u001b[0;34m[\u001b[0m\u001b[0;34m'total_items'\u001b[0m\u001b[0;34m]\u001b[0m\u001b[0;34m\u001b[0m\u001b[0;34m\u001b[0m\u001b[0m\n\u001b[1;32m     27\u001b[0m \u001b[0mitems_count\u001b[0m \u001b[0;34m=\u001b[0m \u001b[0mamazon_order_items\u001b[0m\u001b[0;34m.\u001b[0m\u001b[0mgroupby\u001b[0m\u001b[0;34m(\u001b[0m\u001b[0;34m'order id'\u001b[0m\u001b[0;34m)\u001b[0m\u001b[0;34m.\u001b[0m\u001b[0msize\u001b[0m\u001b[0;34m(\u001b[0m\u001b[0;34m)\u001b[0m\u001b[0;34m.\u001b[0m\u001b[0mreset_index\u001b[0m\u001b[0;34m(\u001b[0m\u001b[0mname\u001b[0m\u001b[0;34m=\u001b[0m\u001b[0;34m'count'\u001b[0m\u001b[0;34m)\u001b[0m\u001b[0;34m\u001b[0m\u001b[0;34m\u001b[0m\u001b[0m\n",
            "\u001b[0;32m/usr/local/lib/python3.10/dist-packages/pandas/core/generic.py\u001b[0m in \u001b[0;36m__getattr__\u001b[0;34m(self, name)\u001b[0m\n\u001b[1;32m   5900\u001b[0m         ):\n\u001b[1;32m   5901\u001b[0m             \u001b[0;32mreturn\u001b[0m \u001b[0mself\u001b[0m\u001b[0;34m[\u001b[0m\u001b[0mname\u001b[0m\u001b[0;34m]\u001b[0m\u001b[0;34m\u001b[0m\u001b[0;34m\u001b[0m\u001b[0m\n\u001b[0;32m-> 5902\u001b[0;31m         \u001b[0;32mreturn\u001b[0m \u001b[0mobject\u001b[0m\u001b[0;34m.\u001b[0m\u001b[0m__getattribute__\u001b[0m\u001b[0;34m(\u001b[0m\u001b[0mself\u001b[0m\u001b[0;34m,\u001b[0m \u001b[0mname\u001b[0m\u001b[0;34m)\u001b[0m\u001b[0;34m\u001b[0m\u001b[0;34m\u001b[0m\u001b[0m\n\u001b[0m\u001b[1;32m   5903\u001b[0m \u001b[0;34m\u001b[0m\u001b[0m\n\u001b[1;32m   5904\u001b[0m     \u001b[0;32mdef\u001b[0m \u001b[0m__setattr__\u001b[0m\u001b[0;34m(\u001b[0m\u001b[0mself\u001b[0m\u001b[0;34m,\u001b[0m \u001b[0mname\u001b[0m\u001b[0;34m:\u001b[0m \u001b[0mstr\u001b[0m\u001b[0;34m,\u001b[0m \u001b[0mvalue\u001b[0m\u001b[0;34m)\u001b[0m \u001b[0;34m->\u001b[0m \u001b[0;32mNone\u001b[0m\u001b[0;34m:\u001b[0m\u001b[0;34m\u001b[0m\u001b[0;34m\u001b[0m\u001b[0m\n",
            "\u001b[0;32m/usr/local/lib/python3.10/dist-packages/pandas/core/accessor.py\u001b[0m in \u001b[0;36m__get__\u001b[0;34m(self, obj, cls)\u001b[0m\n\u001b[1;32m    180\u001b[0m             \u001b[0;31m# we're accessing the attribute of the class, i.e., Dataset.geo\u001b[0m\u001b[0;34m\u001b[0m\u001b[0;34m\u001b[0m\u001b[0m\n\u001b[1;32m    181\u001b[0m             \u001b[0;32mreturn\u001b[0m \u001b[0mself\u001b[0m\u001b[0;34m.\u001b[0m\u001b[0m_accessor\u001b[0m\u001b[0;34m\u001b[0m\u001b[0;34m\u001b[0m\u001b[0m\n\u001b[0;32m--> 182\u001b[0;31m         \u001b[0maccessor_obj\u001b[0m \u001b[0;34m=\u001b[0m \u001b[0mself\u001b[0m\u001b[0;34m.\u001b[0m\u001b[0m_accessor\u001b[0m\u001b[0;34m(\u001b[0m\u001b[0mobj\u001b[0m\u001b[0;34m)\u001b[0m\u001b[0;34m\u001b[0m\u001b[0;34m\u001b[0m\u001b[0m\n\u001b[0m\u001b[1;32m    183\u001b[0m         \u001b[0;31m# Replace the property with the accessor object. Inspired by:\u001b[0m\u001b[0;34m\u001b[0m\u001b[0;34m\u001b[0m\u001b[0m\n\u001b[1;32m    184\u001b[0m         \u001b[0;31m# https://www.pydanny.com/cached-property.html\u001b[0m\u001b[0;34m\u001b[0m\u001b[0;34m\u001b[0m\u001b[0m\n",
            "\u001b[0;32m/usr/local/lib/python3.10/dist-packages/pandas/core/strings/accessor.py\u001b[0m in \u001b[0;36m__init__\u001b[0;34m(self, data)\u001b[0m\n\u001b[1;32m    179\u001b[0m         \u001b[0;32mfrom\u001b[0m \u001b[0mpandas\u001b[0m\u001b[0;34m.\u001b[0m\u001b[0mcore\u001b[0m\u001b[0;34m.\u001b[0m\u001b[0marrays\u001b[0m\u001b[0;34m.\u001b[0m\u001b[0mstring_\u001b[0m \u001b[0;32mimport\u001b[0m \u001b[0mStringDtype\u001b[0m\u001b[0;34m\u001b[0m\u001b[0;34m\u001b[0m\u001b[0m\n\u001b[1;32m    180\u001b[0m \u001b[0;34m\u001b[0m\u001b[0m\n\u001b[0;32m--> 181\u001b[0;31m         \u001b[0mself\u001b[0m\u001b[0;34m.\u001b[0m\u001b[0m_inferred_dtype\u001b[0m \u001b[0;34m=\u001b[0m \u001b[0mself\u001b[0m\u001b[0;34m.\u001b[0m\u001b[0m_validate\u001b[0m\u001b[0;34m(\u001b[0m\u001b[0mdata\u001b[0m\u001b[0;34m)\u001b[0m\u001b[0;34m\u001b[0m\u001b[0;34m\u001b[0m\u001b[0m\n\u001b[0m\u001b[1;32m    182\u001b[0m         \u001b[0mself\u001b[0m\u001b[0;34m.\u001b[0m\u001b[0m_is_categorical\u001b[0m \u001b[0;34m=\u001b[0m \u001b[0mis_categorical_dtype\u001b[0m\u001b[0;34m(\u001b[0m\u001b[0mdata\u001b[0m\u001b[0;34m.\u001b[0m\u001b[0mdtype\u001b[0m\u001b[0;34m)\u001b[0m\u001b[0;34m\u001b[0m\u001b[0;34m\u001b[0m\u001b[0m\n\u001b[1;32m    183\u001b[0m         \u001b[0mself\u001b[0m\u001b[0;34m.\u001b[0m\u001b[0m_is_string\u001b[0m \u001b[0;34m=\u001b[0m \u001b[0misinstance\u001b[0m\u001b[0;34m(\u001b[0m\u001b[0mdata\u001b[0m\u001b[0;34m.\u001b[0m\u001b[0mdtype\u001b[0m\u001b[0;34m,\u001b[0m \u001b[0mStringDtype\u001b[0m\u001b[0;34m)\u001b[0m\u001b[0;34m\u001b[0m\u001b[0;34m\u001b[0m\u001b[0m\n",
            "\u001b[0;32m/usr/local/lib/python3.10/dist-packages/pandas/core/strings/accessor.py\u001b[0m in \u001b[0;36m_validate\u001b[0;34m(data)\u001b[0m\n\u001b[1;32m    233\u001b[0m \u001b[0;34m\u001b[0m\u001b[0m\n\u001b[1;32m    234\u001b[0m         \u001b[0;32mif\u001b[0m \u001b[0minferred_dtype\u001b[0m \u001b[0;32mnot\u001b[0m \u001b[0;32min\u001b[0m \u001b[0mallowed_types\u001b[0m\u001b[0;34m:\u001b[0m\u001b[0;34m\u001b[0m\u001b[0;34m\u001b[0m\u001b[0m\n\u001b[0;32m--> 235\u001b[0;31m             \u001b[0;32mraise\u001b[0m \u001b[0mAttributeError\u001b[0m\u001b[0;34m(\u001b[0m\u001b[0;34m\"Can only use .str accessor with string values!\"\u001b[0m\u001b[0;34m)\u001b[0m\u001b[0;34m\u001b[0m\u001b[0;34m\u001b[0m\u001b[0m\n\u001b[0m\u001b[1;32m    236\u001b[0m         \u001b[0;32mreturn\u001b[0m \u001b[0minferred_dtype\u001b[0m\u001b[0;34m\u001b[0m\u001b[0;34m\u001b[0m\u001b[0m\n\u001b[1;32m    237\u001b[0m \u001b[0;34m\u001b[0m\u001b[0m\n",
            "\u001b[0;31mAttributeError\u001b[0m: Can only use .str accessor with string values!"
          ]
        }
      ]
    },
    {
      "cell_type": "markdown",
      "source": [
        "# CATEGORIZATION"
      ],
      "metadata": {
        "id": "-b15vK3yJTdu"
      }
    },
    {
      "cell_type": "code",
      "source": [
        "# Initialize a category column with default value as 'non-grocery'\n",
        "amazon_order_items['category'] = 'n/a'\n",
        "\n",
        "# Check each item description against the keywords\n",
        "for keyword in grocery_keywords:\n",
        "    amazon_order_items.loc[amazon_order_items['description'].str.lower().str.contains(keyword, na=False), 'category'] = 'grocery'\n",
        "\n",
        "amazon_order_items.head()\n"
      ],
      "metadata": {
        "colab": {
          "base_uri": "https://localhost:8080/",
          "height": 449
        },
        "id": "9u840svohIXk",
        "outputId": "294000cd-e139-48a0-cd84-bd33da3ab5e6"
      },
      "execution_count": null,
      "outputs": [
        {
          "output_type": "execute_result",
          "data": {
            "text/plain": [
              "              order id order date  quantity  \\\n",
              "0  D01-6286295-4630651   7/2/2023       1.0   \n",
              "1  112-3542613-6514648  8/15/2023       1.0   \n",
              "2  114-9993434-2529000  8/14/2023       1.0   \n",
              "3  114-9993434-2529000  8/14/2023       1.0   \n",
              "4  114-9993434-2529000  8/14/2023       1.0   \n",
              "\n",
              "                                         description  price Unnamed: 5  total  \\\n",
              "0  Other Minds: The Octopus, the Sea, and the Dee...  15.49        NaN  15.49   \n",
              "1  Nice 'N Clean Adult Flushable Wipes (8 x 42 Co...  15.99        NaN  15.99   \n",
              "2                      Mushroom White Organic, 0.5lb   3.23   0.311719   3.23   \n",
              "3            Organic Mixed Variety Heirloom Tomatoes   7.73   0.311719   7.73   \n",
              "4                                     Organic Banana   5.05   0.311719   5.05   \n",
              "\n",
              "    residual  grand_total category  \n",
              "0 -15.490000         0.00      n/a  \n",
              "1   1.380000        17.37      n/a  \n",
              "2   0.311719         3.54  grocery  \n",
              "3   0.311719         8.04  grocery  \n",
              "4   0.311719         5.36  grocery  "
            ],
            "text/html": [
              "\n",
              "  <div id=\"df-4a4313a5-4d24-40a2-bc3c-b2de6a306151\" class=\"colab-df-container\">\n",
              "    <div>\n",
              "<style scoped>\n",
              "    .dataframe tbody tr th:only-of-type {\n",
              "        vertical-align: middle;\n",
              "    }\n",
              "\n",
              "    .dataframe tbody tr th {\n",
              "        vertical-align: top;\n",
              "    }\n",
              "\n",
              "    .dataframe thead th {\n",
              "        text-align: right;\n",
              "    }\n",
              "</style>\n",
              "<table border=\"1\" class=\"dataframe\">\n",
              "  <thead>\n",
              "    <tr style=\"text-align: right;\">\n",
              "      <th></th>\n",
              "      <th>order id</th>\n",
              "      <th>order date</th>\n",
              "      <th>quantity</th>\n",
              "      <th>description</th>\n",
              "      <th>price</th>\n",
              "      <th>Unnamed: 5</th>\n",
              "      <th>total</th>\n",
              "      <th>residual</th>\n",
              "      <th>grand_total</th>\n",
              "      <th>category</th>\n",
              "    </tr>\n",
              "  </thead>\n",
              "  <tbody>\n",
              "    <tr>\n",
              "      <th>0</th>\n",
              "      <td>D01-6286295-4630651</td>\n",
              "      <td>7/2/2023</td>\n",
              "      <td>1.0</td>\n",
              "      <td>Other Minds: The Octopus, the Sea, and the Dee...</td>\n",
              "      <td>15.49</td>\n",
              "      <td>NaN</td>\n",
              "      <td>15.49</td>\n",
              "      <td>-15.490000</td>\n",
              "      <td>0.00</td>\n",
              "      <td>n/a</td>\n",
              "    </tr>\n",
              "    <tr>\n",
              "      <th>1</th>\n",
              "      <td>112-3542613-6514648</td>\n",
              "      <td>8/15/2023</td>\n",
              "      <td>1.0</td>\n",
              "      <td>Nice 'N Clean Adult Flushable Wipes (8 x 42 Co...</td>\n",
              "      <td>15.99</td>\n",
              "      <td>NaN</td>\n",
              "      <td>15.99</td>\n",
              "      <td>1.380000</td>\n",
              "      <td>17.37</td>\n",
              "      <td>n/a</td>\n",
              "    </tr>\n",
              "    <tr>\n",
              "      <th>2</th>\n",
              "      <td>114-9993434-2529000</td>\n",
              "      <td>8/14/2023</td>\n",
              "      <td>1.0</td>\n",
              "      <td>Mushroom White Organic, 0.5lb</td>\n",
              "      <td>3.23</td>\n",
              "      <td>0.311719</td>\n",
              "      <td>3.23</td>\n",
              "      <td>0.311719</td>\n",
              "      <td>3.54</td>\n",
              "      <td>grocery</td>\n",
              "    </tr>\n",
              "    <tr>\n",
              "      <th>3</th>\n",
              "      <td>114-9993434-2529000</td>\n",
              "      <td>8/14/2023</td>\n",
              "      <td>1.0</td>\n",
              "      <td>Organic Mixed Variety Heirloom Tomatoes</td>\n",
              "      <td>7.73</td>\n",
              "      <td>0.311719</td>\n",
              "      <td>7.73</td>\n",
              "      <td>0.311719</td>\n",
              "      <td>8.04</td>\n",
              "      <td>grocery</td>\n",
              "    </tr>\n",
              "    <tr>\n",
              "      <th>4</th>\n",
              "      <td>114-9993434-2529000</td>\n",
              "      <td>8/14/2023</td>\n",
              "      <td>1.0</td>\n",
              "      <td>Organic Banana</td>\n",
              "      <td>5.05</td>\n",
              "      <td>0.311719</td>\n",
              "      <td>5.05</td>\n",
              "      <td>0.311719</td>\n",
              "      <td>5.36</td>\n",
              "      <td>grocery</td>\n",
              "    </tr>\n",
              "  </tbody>\n",
              "</table>\n",
              "</div>\n",
              "    <div class=\"colab-df-buttons\">\n",
              "\n",
              "  <div class=\"colab-df-container\">\n",
              "    <button class=\"colab-df-convert\" onclick=\"convertToInteractive('df-4a4313a5-4d24-40a2-bc3c-b2de6a306151')\"\n",
              "            title=\"Convert this dataframe to an interactive table.\"\n",
              "            style=\"display:none;\">\n",
              "\n",
              "  <svg xmlns=\"http://www.w3.org/2000/svg\" height=\"24px\" viewBox=\"0 -960 960 960\">\n",
              "    <path d=\"M120-120v-720h720v720H120Zm60-500h600v-160H180v160Zm220 220h160v-160H400v160Zm0 220h160v-160H400v160ZM180-400h160v-160H180v160Zm440 0h160v-160H620v160ZM180-180h160v-160H180v160Zm440 0h160v-160H620v160Z\"/>\n",
              "  </svg>\n",
              "    </button>\n",
              "\n",
              "  <style>\n",
              "    .colab-df-container {\n",
              "      display:flex;\n",
              "      gap: 12px;\n",
              "    }\n",
              "\n",
              "    .colab-df-convert {\n",
              "      background-color: #E8F0FE;\n",
              "      border: none;\n",
              "      border-radius: 50%;\n",
              "      cursor: pointer;\n",
              "      display: none;\n",
              "      fill: #1967D2;\n",
              "      height: 32px;\n",
              "      padding: 0 0 0 0;\n",
              "      width: 32px;\n",
              "    }\n",
              "\n",
              "    .colab-df-convert:hover {\n",
              "      background-color: #E2EBFA;\n",
              "      box-shadow: 0px 1px 2px rgba(60, 64, 67, 0.3), 0px 1px 3px 1px rgba(60, 64, 67, 0.15);\n",
              "      fill: #174EA6;\n",
              "    }\n",
              "\n",
              "    .colab-df-buttons div {\n",
              "      margin-bottom: 4px;\n",
              "    }\n",
              "\n",
              "    [theme=dark] .colab-df-convert {\n",
              "      background-color: #3B4455;\n",
              "      fill: #D2E3FC;\n",
              "    }\n",
              "\n",
              "    [theme=dark] .colab-df-convert:hover {\n",
              "      background-color: #434B5C;\n",
              "      box-shadow: 0px 1px 3px 1px rgba(0, 0, 0, 0.15);\n",
              "      filter: drop-shadow(0px 1px 2px rgba(0, 0, 0, 0.3));\n",
              "      fill: #FFFFFF;\n",
              "    }\n",
              "  </style>\n",
              "\n",
              "    <script>\n",
              "      const buttonEl =\n",
              "        document.querySelector('#df-4a4313a5-4d24-40a2-bc3c-b2de6a306151 button.colab-df-convert');\n",
              "      buttonEl.style.display =\n",
              "        google.colab.kernel.accessAllowed ? 'block' : 'none';\n",
              "\n",
              "      async function convertToInteractive(key) {\n",
              "        const element = document.querySelector('#df-4a4313a5-4d24-40a2-bc3c-b2de6a306151');\n",
              "        const dataTable =\n",
              "          await google.colab.kernel.invokeFunction('convertToInteractive',\n",
              "                                                    [key], {});\n",
              "        if (!dataTable) return;\n",
              "\n",
              "        const docLinkHtml = 'Like what you see? Visit the ' +\n",
              "          '<a target=\"_blank\" href=https://colab.research.google.com/notebooks/data_table.ipynb>data table notebook</a>'\n",
              "          + ' to learn more about interactive tables.';\n",
              "        element.innerHTML = '';\n",
              "        dataTable['output_type'] = 'display_data';\n",
              "        await google.colab.output.renderOutput(dataTable, element);\n",
              "        const docLink = document.createElement('div');\n",
              "        docLink.innerHTML = docLinkHtml;\n",
              "        element.appendChild(docLink);\n",
              "      }\n",
              "    </script>\n",
              "  </div>\n",
              "\n",
              "\n",
              "<div id=\"df-7e87b32d-4587-41ec-8350-92a21d3955c4\">\n",
              "  <button class=\"colab-df-quickchart\" onclick=\"quickchart('df-7e87b32d-4587-41ec-8350-92a21d3955c4')\"\n",
              "            title=\"Suggest charts.\"\n",
              "            style=\"display:none;\">\n",
              "\n",
              "<svg xmlns=\"http://www.w3.org/2000/svg\" height=\"24px\"viewBox=\"0 0 24 24\"\n",
              "     width=\"24px\">\n",
              "    <g>\n",
              "        <path d=\"M19 3H5c-1.1 0-2 .9-2 2v14c0 1.1.9 2 2 2h14c1.1 0 2-.9 2-2V5c0-1.1-.9-2-2-2zM9 17H7v-7h2v7zm4 0h-2V7h2v10zm4 0h-2v-4h2v4z\"/>\n",
              "    </g>\n",
              "</svg>\n",
              "  </button>\n",
              "\n",
              "<style>\n",
              "  .colab-df-quickchart {\n",
              "    background-color: #E8F0FE;\n",
              "    border: none;\n",
              "    border-radius: 50%;\n",
              "    cursor: pointer;\n",
              "    display: none;\n",
              "    fill: #1967D2;\n",
              "    height: 32px;\n",
              "    padding: 0 0 0 0;\n",
              "    width: 32px;\n",
              "  }\n",
              "\n",
              "  .colab-df-quickchart:hover {\n",
              "    background-color: #E2EBFA;\n",
              "    box-shadow: 0px 1px 2px rgba(60, 64, 67, 0.3), 0px 1px 3px 1px rgba(60, 64, 67, 0.15);\n",
              "    fill: #174EA6;\n",
              "  }\n",
              "\n",
              "  [theme=dark] .colab-df-quickchart {\n",
              "    background-color: #3B4455;\n",
              "    fill: #D2E3FC;\n",
              "  }\n",
              "\n",
              "  [theme=dark] .colab-df-quickchart:hover {\n",
              "    background-color: #434B5C;\n",
              "    box-shadow: 0px 1px 3px 1px rgba(0, 0, 0, 0.15);\n",
              "    filter: drop-shadow(0px 1px 2px rgba(0, 0, 0, 0.3));\n",
              "    fill: #FFFFFF;\n",
              "  }\n",
              "</style>\n",
              "\n",
              "  <script>\n",
              "    async function quickchart(key) {\n",
              "      const charts = await google.colab.kernel.invokeFunction(\n",
              "          'suggestCharts', [key], {});\n",
              "    }\n",
              "    (() => {\n",
              "      let quickchartButtonEl =\n",
              "        document.querySelector('#df-7e87b32d-4587-41ec-8350-92a21d3955c4 button');\n",
              "      quickchartButtonEl.style.display =\n",
              "        google.colab.kernel.accessAllowed ? 'block' : 'none';\n",
              "    })();\n",
              "  </script>\n",
              "</div>\n",
              "    </div>\n",
              "  </div>\n"
            ]
          },
          "metadata": {},
          "execution_count": 151
        }
      ]
    },
    {
      "cell_type": "markdown",
      "source": [
        "# TRANSACTIONAL CREATION"
      ],
      "metadata": {
        "id": "KpFfTLKGJWvV"
      }
    },
    {
      "cell_type": "code",
      "source": [
        "### SPLIT TRANSACTION ###\n",
        "\n",
        "def create_split(category, memo, amount):\n",
        "    return (category, memo, amount)\n",
        "\n",
        "def create_transaction(date, total_amount, payee, memo, category=None, splits=None):\n",
        "    return {\n",
        "        \"date\": date,\n",
        "        \"total_amount\": total_amount,\n",
        "        \"payee\": payee,\n",
        "        \"memo\": memo,\n",
        "        \"category\": category,\n",
        "        \"splits\": splits\n",
        "    }\n",
        "\n",
        "def export_qif_transactions(filename, transactions):\n",
        "    qif_content = \"!Type:Cash\\n\"\n",
        "\n",
        "    for transaction in transactions:\n",
        "        # Add the transaction details\n",
        "        qif_content += f\"D{transaction['date']}\\n\"\n",
        "        qif_content += f\"T{transaction['total_amount']}\\n\"\n",
        "        qif_content += f\"P{transaction['payee']}\\n\"\n",
        "        qif_content += f\"M{transaction['memo']}\\n\"\n",
        "\n",
        "        # If a category is provided for a simple transaction, add it\n",
        "        if transaction.get('category') and not transaction.get('splits'):\n",
        "            qif_content += f\"L{transaction['category']}\\n\"\n",
        "\n",
        "        # If splits exist for the transaction, add them\n",
        "        splits = transaction.get('splits')\n",
        "        if splits:\n",
        "            qif_content += \"LSplit Transaction\\n\"\n",
        "            for split in splits:\n",
        "                category, memo, amount = split\n",
        "                qif_content += f\"S{category}\\n\"\n",
        "                qif_content += f\"E{memo}\\n\"\n",
        "                qif_content += f\"${amount}\\n\"\n",
        "\n",
        "        # End the transaction\n",
        "        qif_content += \"^\\n\"\n",
        "\n",
        "    # Export to a file in Google Drive\n",
        "    with open(HOME_PATH + \"/results/\" + filename, \"w\") as file:\n",
        "        file.write(qif_content)\n",
        "\n",
        "def export_qif_transactions_by_chunk(transactions, x, base_filename=\"transactions\"):\n",
        "    \"\"\"\n",
        "    Export the transactions in QIF format, splitting them into separate files,\n",
        "    each containing up to x transactions.\n",
        "\n",
        "    Parameters:\n",
        "    - transactions: List of transaction dictionaries.\n",
        "    - x: Number of transactions per file.\n",
        "    - base_filename: Base name for the output files. Files will be named as base_filename_1.qif, base_filename_2.qif, ...\n",
        "\n",
        "    Returns:\n",
        "    - List of saved file paths.\n",
        "    \"\"\"\n",
        "\n",
        "    # Validate x\n",
        "    if not (1 <= x <= 100):\n",
        "        raise ValueError(\"x should be between 1 and 100\")\n",
        "\n",
        "    saved_files = []\n",
        "\n",
        "    for idx, i in enumerate(range(0, len(transactions), x)):\n",
        "        chunk = transactions[i:i+x]\n",
        "        qif_content = \"!Type:Cash\\n\"\n",
        "\n",
        "        for transaction in chunk:\n",
        "            # Add the transaction details\n",
        "            qif_content += f\"D{transaction['date']}\\n\"\n",
        "            qif_content += f\"T{transaction['total_amount']}\\n\"\n",
        "            qif_content += f\"P{transaction['payee']}\\n\"\n",
        "            qif_content += f\"M{transaction['memo']}\\n\"\n",
        "\n",
        "            # If a category is provided for a simple transaction, add it\n",
        "            if transaction.get('category') and not transaction.get('splits'):\n",
        "                qif_content += f\"L{transaction['category']}\\n\"\n",
        "\n",
        "            # If splits exist for the transaction, add them\n",
        "            splits = transaction.get('splits')\n",
        "            if splits:\n",
        "                qif_content += \"LSplit Transaction\\n\"\n",
        "                for split in splits:\n",
        "                    category, memo, amount = split\n",
        "                    qif_content += f\"S{category}\\n\"\n",
        "                    qif_content += f\"E{memo}\\n\"\n",
        "                    qif_content += f\"${amount}\\n\"\n",
        "\n",
        "            # End the transaction\n",
        "            qif_content += \"^\\n\"\n",
        "\n",
        "        # Define filename for this chunk\n",
        "        filename = f\"{base_filename}_{idx+1}.qif\"\n",
        "        filepath = HOME_PATH + \"/results/\" + filename\n",
        "\n",
        "        # Export to a file\n",
        "        with open(filepath, \"w\") as file:\n",
        "            file.write(qif_content)\n",
        "\n",
        "        saved_files.append(filepath)\n",
        "\n",
        "    return saved_files\n"
      ],
      "metadata": {
        "id": "SzlqJ5NPIyqt"
      },
      "execution_count": null,
      "outputs": []
    },
    {
      "cell_type": "code",
      "source": [
        "# Using the provided functions to regenerate the QIF transactions and export them\n",
        "\n",
        "# Generate the QIF transactions\n",
        "\n",
        "transactions = []\n",
        "\n",
        "from datetime import datetime\n",
        "\n",
        "# Iterate over each unique order\n",
        "for order_id, group in amazon_order_items.groupby('order id'):\n",
        "    order_date = group['order date'].iloc[0]\n",
        "    total_amount = group['grand_total'].sum()\n",
        "    payee = \"Amazon\" + \" \" + order_id\n",
        "\n",
        "    if len(group) == 1: # Check for single item transactions\n",
        "        row = group.iloc[0]\n",
        "        if row['category'] == 'grocery':\n",
        "            transaction = create_transaction(order_date, f\"{row['grand_total']:.2f}\", \"Amazon \" + order_id, \"\", category=category[\"grocery\"])\n",
        "        else:\n",
        "            transaction = create_transaction(order_date, f\"{total_amount:.2f}\", payee, memo=row['description'])\n",
        "        transactions.append(transaction)\n",
        "\n",
        "    else:\n",
        "        # For multiple items in the transaction:\n",
        "        # Grocery split amount\n",
        "        grocery_total = group.loc[group['category'] == 'grocery', 'grand_total'].sum()\n",
        "\n",
        "        # Non-grocery splits\n",
        "        non_grocery_splits = []\n",
        "        for _, row in group[group['category'] != 'grocery'].iterrows():\n",
        "          # Ensure row has valid data\n",
        "          if 'description' in row and 'grand_total' in row:\n",
        "            split = create_split(\"\", row['description'], f\"{row['grand_total']:.2f}\")\n",
        "            non_grocery_splits.append(split)\n",
        "\n",
        "        # If grocery total is not zero, add it as a split\n",
        "        if grocery_total != 0:\n",
        "            grocery_split = create_split(category[\"grocery\"], \"\", f\"{grocery_total:.2f}\")\n",
        "            non_grocery_splits.append(grocery_split)\n",
        "\n",
        "        # Create the transaction\n",
        "        transaction = create_transaction(order_date, f\"{total_amount:.2f}\", \"Amazon \" + order_id, \"\", splits=non_grocery_splits)\n",
        "        transactions.append(transaction)\n",
        "\n",
        "# Export the transactions to a QIF file by chunks\n",
        "export_qif_transactions_by_chunk(transactions, 100)\n"
      ],
      "metadata": {
        "colab": {
          "base_uri": "https://localhost:8080/"
        },
        "id": "XAKIJlXG5iju",
        "outputId": "b16f73ec-4977-4d2b-b3e2-e1d6901941b6"
      },
      "execution_count": null,
      "outputs": [
        {
          "output_type": "execute_result",
          "data": {
            "text/plain": [
              "['/content/drive/MyDrive/Colab Notebooks/YNAB//results/transactions_1.qif']"
            ]
          },
          "metadata": {},
          "execution_count": 153
        }
      ]
    }
  ]
}