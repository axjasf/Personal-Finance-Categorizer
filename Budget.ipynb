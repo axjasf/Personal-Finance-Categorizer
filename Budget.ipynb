{
  "nbformat": 4,
  "nbformat_minor": 0,
  "metadata": {
    "colab": {
      "provenance": [],
      "toc_visible": true,
      "authorship_tag": "ABX9TyO0HHPovSdiA/rxcLNQghY6",
      "include_colab_link": true
    },
    "kernelspec": {
      "name": "python3",
      "display_name": "Python 3"
    },
    "language_info": {
      "name": "python"
    }
  },
  "cells": [
    {
      "cell_type": "markdown",
      "metadata": {
        "id": "view-in-github",
        "colab_type": "text"
      },
      "source": [
        "<a href=\"https://colab.research.google.com/github/axjasf/YNAB-Categorizer/blob/main/Budget.ipynb\" target=\"_parent\"><img src=\"https://colab.research.google.com/assets/colab-badge.svg\" alt=\"Open In Colab\"/></a>"
      ]
    },
    {
      "cell_type": "markdown",
      "source": [
        "# Setup"
      ],
      "metadata": {
        "id": "jDWIT_CWmLBT"
      }
    },
    {
      "cell_type": "markdown",
      "source": [
        "## Installation of Libraries\n",
        "\n",
        "*   Neccessary libraries that might not be available right away in CoLab need to be installed here.\n",
        "\n",
        "\n",
        "\n"
      ],
      "metadata": {
        "id": "EvOqV2xgovT2"
      }
    },
    {
      "cell_type": "markdown",
      "source": [
        "## Loading of Libraries\n",
        "* Loading of neccessary libraries such as Pandas etc."
      ],
      "metadata": {
        "id": "YFUcNTnFoxgM"
      }
    },
    {
      "cell_type": "markdown",
      "source": [
        "## Connect to Google Drive\n",
        "\n",
        "* Connect CoLab to a dedicated Google Drive Folder\n",
        "* Define HOME_PATH, CONFIG_PATH, TRANSACTION_PATH as path variables\n",
        "\n",
        "\n",
        "\n"
      ],
      "metadata": {
        "id": "0SDnZ9zUoquX"
      }
    },
    {
      "cell_type": "markdown",
      "source": [
        "## Define global Variables\n",
        "* Create transactions df structure that ultimately will hold all transactions from all bank files"
      ],
      "metadata": {
        "id": "MQ1-J3IcotCz"
      }
    },
    {
      "cell_type": "markdown",
      "source": [
        "# File Conversion"
      ],
      "metadata": {
        "id": "DonELYoNmHRM"
      }
    },
    {
      "cell_type": "markdown",
      "source": [
        "For each bank file:\n",
        "\n",
        "* Load file into individual df\n",
        "* Basic quality control on the individual df level\n",
        "* Transform columns into target columns\n",
        "    * Add Bank ID field as well as numberical ID field\n",
        "* Add individual df to transactions df"
      ],
      "metadata": {
        "id": "sV_EgVu5pG3G"
      }
    },
    {
      "cell_type": "markdown",
      "source": [
        "# Harmonization"
      ],
      "metadata": {
        "id": "IQ2XK_tVq09c"
      }
    },
    {
      "cell_type": "markdown",
      "source": [
        "* New Payee identification\n",
        "    * Match payee against in a config file for payees\n",
        "* Payee transformation"
      ],
      "metadata": {
        "id": "h3dHnqhpq5ew"
      }
    },
    {
      "cell_type": "markdown",
      "source": [
        "# Categorization"
      ],
      "metadata": {
        "id": "DF0bxKmWmsz0"
      }
    },
    {
      "cell_type": "markdown",
      "source": [
        "* Transactions <--> Payee mapping (1:1)\n",
        "* Transactions <--> Amazon Orders mapping and splitting\n",
        "* Transactions <--> Apple Orders mapping and splitting\n",
        "* Transactions <--> Walgreens splitting"
      ],
      "metadata": {
        "id": "ol1JCGCXmkqK"
      }
    },
    {
      "cell_type": "markdown",
      "source": [
        "# Output"
      ],
      "metadata": {
        "id": "auc-YLI0qPmD"
      }
    },
    {
      "cell_type": "markdown",
      "source": [
        "\n",
        "\n",
        "*   Export transactions dataframe into CSV\n",
        "\n"
      ],
      "metadata": {
        "id": "Ojxb0cORqS37"
      }
    }
  ]
}