{
  "cells": [
    {
      "cell_type": "markdown",
      "metadata": {
        "id": "view-in-github",
        "colab_type": "text"
      },
      "source": [
        "<a href=\"https://colab.research.google.com/github/axjasf/YNAB-Categorizer/blob/main/YNAB.ipynb\" target=\"_parent\"><img src=\"https://colab.research.google.com/assets/colab-badge.svg\" alt=\"Open In Colab\"/></a>"
      ]
    },
    {
      "cell_type": "markdown",
      "metadata": {
        "id": "Du22rj5WJAb0"
      },
      "source": [
        "# Setup"
      ]
    },
    {
      "cell_type": "markdown",
      "metadata": {
        "id": "zSnV2jGC81Ro"
      },
      "source": [
        "## Libraries"
      ]
    },
    {
      "cell_type": "code",
      "execution_count": 19,
      "metadata": {
        "colab": {
          "base_uri": "https://localhost:8080/"
        },
        "id": "0mAfAsy54qEt",
        "outputId": "a95d7897-c060-4d39-dbae-f9425284cba7"
      },
      "outputs": [
        {
          "output_type": "stream",
          "name": "stdout",
          "text": [
            "Requirement already satisfied: fuzzywuzzy in /usr/local/lib/python3.10/dist-packages (0.18.0)\n",
            "Requirement already satisfied: python-Levenshtein in /usr/local/lib/python3.10/dist-packages (0.21.1)\n",
            "Requirement already satisfied: Levenshtein==0.21.1 in /usr/local/lib/python3.10/dist-packages (from python-Levenshtein) (0.21.1)\n",
            "Requirement already satisfied: rapidfuzz<4.0.0,>=2.3.0 in /usr/local/lib/python3.10/dist-packages (from Levenshtein==0.21.1->python-Levenshtein) (3.2.0)\n"
          ]
        }
      ],
      "source": [
        "# Installing libraries\n",
        "!pip install fuzzywuzzy\n",
        "!pip install python-Levenshtein"
      ]
    },
    {
      "cell_type": "code",
      "execution_count": 20,
      "metadata": {
        "id": "LWKyOP3pB2AW"
      },
      "outputs": [],
      "source": [
        "# Importing libraries\n",
        "import pandas as pd\n",
        "import numpy as np\n",
        "import os\n",
        "from ipywidgets import widgets\n",
        "from IPython.display import display\n",
        "import json\n",
        "import io\n",
        "from fuzzywuzzy import process\n"
      ]
    },
    {
      "cell_type": "markdown",
      "metadata": {
        "id": "qr8Rvkhw5zPm"
      },
      "source": [
        "## Files"
      ]
    },
    {
      "cell_type": "code",
      "execution_count": 21,
      "metadata": {
        "id": "Mp6UzOPyB0H7"
      },
      "outputs": [],
      "source": [
        "# Folder names and File names\n",
        "\n",
        "HOME_PATH = \"/content/drive/MyDrive/Colab Notebooks/YNAB/\"\n",
        "CONFIG_PATH = HOME_PATH + \"/config/\"\n",
        "TRANSACTIONS_PATH = HOME_PATH + \"/transactions/\"\n",
        "\n",
        "TRANSACTIONS_FILE = \"chase.csv\"\n"
      ]
    },
    {
      "cell_type": "code",
      "execution_count": 22,
      "metadata": {
        "colab": {
          "base_uri": "https://localhost:8080/"
        },
        "id": "d6aB9k_ISzED",
        "outputId": "7594402d-13ab-49e5-c0b4-b21ffe315174"
      },
      "outputs": [
        {
          "output_type": "stream",
          "name": "stdout",
          "text": [
            "Drive already mounted at /content/drive; to attempt to forcibly remount, call drive.mount(\"/content/drive\", force_remount=True).\n"
          ]
        }
      ],
      "source": [
        "# Mounting Google Drive\n",
        "from google.colab import drive\n",
        "drive.mount('/content/drive')"
      ]
    },
    {
      "cell_type": "code",
      "execution_count": 23,
      "metadata": {
        "id": "dAgKnqJN6TP-"
      },
      "outputs": [],
      "source": [
        "### Config Files ###\n",
        "\n",
        "# Read Grocery keywords\n",
        "grocery_keywords_df = pd.read_csv(CONFIG_PATH + 'grocery_keywords.csv')\n",
        "grocery_keywords = grocery_keywords_df.iloc[:, 0].str.lower().tolist()\n",
        "\n",
        "# Checking, if data is valid\n",
        "# grocery_keywords_df.head()"
      ]
    },
    {
      "cell_type": "code",
      "execution_count": 24,
      "metadata": {
        "id": "Y10m-5PyB2AZ"
      },
      "outputs": [],
      "source": [
        "### Amazon Orders ###\n",
        "\n",
        "# Read Amazon Order Headers and Items\n",
        "amazon_order_headers_df = pd.read_csv(TRANSACTIONS_PATH + 'amazon_order_headers.csv')\n",
        "amazon_order_items_df = pd.read_csv(TRANSACTIONS_PATH + 'amazon_order_items.csv')\n",
        "\n",
        "# Checking, if data is valid\n",
        "# amazon_order_headers_df.head()\n",
        "# amazon_order_items_df.head()"
      ]
    },
    {
      "cell_type": "code",
      "execution_count": 25,
      "metadata": {
        "id": "vYYHZK8hBLiq"
      },
      "outputs": [],
      "source": [
        "### Transactions ###\n",
        "\n",
        "# Read bank transactions\n",
        "transactions_df = pd.read_csv(TRANSACTIONS_PATH + TRANSACTIONS_FILE)\n",
        "\n",
        "# Checking, if data is valid\n",
        "# transactions_df.head()\n"
      ]
    },
    {
      "cell_type": "markdown",
      "metadata": {
        "id": "4Ag4BVjA874M"
      },
      "source": [
        "## Global Variables"
      ]
    },
    {
      "cell_type": "code",
      "execution_count": 26,
      "metadata": {
        "id": "D0D3NNJaSwGM"
      },
      "outputs": [],
      "source": [
        "### CONSTANTS ###\n",
        "\n",
        "# Major categories\n",
        "category= {\n",
        "    \"grocery\" : \"Food, Sports, Entertainment:Food - Groceries & Errands\"\n",
        "}"
      ]
    },
    {
      "cell_type": "markdown",
      "metadata": {
        "id": "IL8v7yhjC7lu"
      },
      "source": [
        "# Transactions preparation"
      ]
    },
    {
      "cell_type": "markdown",
      "metadata": {
        "id": "nsQBnO-xEBbE"
      },
      "source": [
        "## Amazon Payee identification"
      ]
    },
    {
      "cell_type": "code",
      "execution_count": 31,
      "metadata": {
        "id": "U3Jh47WNWmrE",
        "colab": {
          "base_uri": "https://localhost:8080/",
          "height": 49,
          "referenced_widgets": [
            "572d146dfbc648deac4eaf3ec582ecb4",
            "012afdfda8d34fbea4e9a63b81eae36d",
            "fe3377c6509d4a468f191e68e7edbd3c",
            "bba7d8944aaa49e4b526ff89bd41ef57",
            "9b08dec1d3c54fa3a205c0bdf9631940"
          ]
        },
        "outputId": "bf1ab30e-507f-4b7c-f9f6-c119dd6f79c3"
      },
      "outputs": [
        {
          "output_type": "display_data",
          "data": {
            "text/plain": [
              "VBox(children=(Button(description='Submit Feedback', style=ButtonStyle()),))"
            ],
            "application/vnd.jupyter.widget-view+json": {
              "version_major": 2,
              "version_minor": 0,
              "model_id": "572d146dfbc648deac4eaf3ec582ecb4"
            }
          },
          "metadata": {}
        }
      ],
      "source": [
        "# interactive\n",
        "\n",
        "\n",
        "def identify_candidates(transactions_df, config):\n",
        "\n",
        "    def fuzzy_match(transactions_df, patterns, payee_field):\n",
        "        \"\"\"Identify all fuzzy matches based on patterns.\"\"\"\n",
        "        matched_entries_with_scores = []\n",
        "        for payee in transactions_df[payee_field].unique():\n",
        "            for pattern in patterns:\n",
        "                score = process.extractOne(pattern, [payee])[1]\n",
        "                if score >= threshold:\n",
        "                    matched_entries_with_scores.append((payee, score))\n",
        "        return matched_entries_with_scores\n",
        "\n",
        "    matches = fuzzy_match(transactions_df, patterns, payee_field)\n",
        "\n",
        "    # Filter out any payees present in the negative_list from the all_matches\n",
        "    matches = [match for match in matches if match[0] not in negative_list]\n",
        "\n",
        "    # For the purpose of the widgets, exclude items from the positive list\n",
        "    widget_matches = [match for match in matches if match[0] not in positive_list]\n",
        "\n",
        "    # Assign matched_df to all matches\n",
        "    matched_df = transactions_df[transactions_df[payee_field].isin([match[0] for match in matches])]\n",
        "\n",
        "    return matches, widget_matches, matched_df\n",
        "\n",
        "\n",
        "def create_feedback_widgets(matches_with_scores, transactions_df):\n",
        "\n",
        "    def process_feedback(entry, action, matches):\n",
        "        \"\"\"Process user feedback.\"\"\"\n",
        "        if action == \"Approve\":\n",
        "            config['positive_list'].append(entry)\n",
        "        elif action == \"Reject\":\n",
        "            config['negative_list'].append(entry)\n",
        "            matches = [match for match in matches if match[0] != entry]\n",
        "        elif action == \"Pending\":\n",
        "            config['pending_list'].append(entry)\n",
        "            matches = [match for match in matches if match[0] != entry]\n",
        "        return matches\n",
        "\n",
        "    def on_submit(button):\n",
        "        global matched_payees\n",
        "\n",
        "        for hbox in widgets_list:\n",
        "            checkbox, action_dropdown = hbox.children\n",
        "            entry = checkbox.description.split(\" (Score:\")[0]\n",
        "\n",
        "            # If the checkbox is checked, handle feedback\n",
        "            if checkbox.value:\n",
        "                action = action_dropdown.value\n",
        "                matched_payees = process_feedback(entry, action, matched_payees)\n",
        "\n",
        "        with open(CONFIG_PATH + filename, 'w') as file:\n",
        "            json.dump(config, file, indent=4)\n",
        "\n",
        "    # Initialize an empty list to store the widgets\n",
        "    widgets_list = []\n",
        "\n",
        "    # Filter matches_with_scores based on the threshold\n",
        "    filtered_matches_with_scores = [(entry, score) for entry, score in matches_with_scores if score >= threshold]\n",
        "\n",
        "    for entry, score in filtered_matches_with_scores:\n",
        "        checkbox = widgets.Checkbox(value=False, description=f\"{entry} (Score: {score})\")\n",
        "\n",
        "        # Preselect dropdown based on score\n",
        "        preselected_action = 'Approve'\n",
        "\n",
        "        action_dropdown = widgets.Dropdown(\n",
        "            options=['Approve', 'Reject', 'Pending'],\n",
        "            value=preselected_action,\n",
        "            description='Action:'\n",
        "        )\n",
        "\n",
        "        hbox = widgets.HBox([checkbox, action_dropdown])\n",
        "        widgets_list.append(hbox)  # Append the HBox to the widgets list\n",
        "        # display(hbox)\n",
        "\n",
        "    submit_button = widgets.Button(description=\"Submit Feedback\")\n",
        "    submit_button.on_click(lambda button: on_submit(button))\n",
        "\n",
        "    return widgets.VBox(widgets_list + [submit_button])\n",
        "\n",
        "# Load the config\n",
        "filename = \"gas_stations_patterns_config.json\"\n",
        "# filename = 'amazon_patterns_config.json'\n",
        "config = json.load(open(CONFIG_PATH + filename))\n",
        "patterns = config[\"patterns\"]\n",
        "threshold = config[\"fuzzy_threshold\"]\n",
        "payee_field = \"Description\"\n",
        "positive_list = config.get(\"positive_list\",[])\n",
        "negative_list = config.get(\"negative_list\", [])\n",
        "\n",
        "# Identify potential outliers and matches\n",
        "matched_payees, widget_payees, matched_df = identify_candidates(transactions_df, config)\n",
        "# Display the feedback widgets for all fuzzy matches above the threshold\n",
        "feedback_widgets = create_feedback_widgets(widget_payees, transactions_df)\n",
        "display(feedback_widgets)\n",
        "\n",
        "\n",
        "\n",
        "\n"
      ]
    },
    {
      "cell_type": "code",
      "source": [
        "matched_df.head()"
      ],
      "metadata": {
        "colab": {
          "base_uri": "https://localhost:8080/",
          "height": 206
        },
        "id": "giWlnxot4I4Z",
        "outputId": "e5756c85-40ae-4bb0-b50b-2a757afe67e2"
      },
      "execution_count": 33,
      "outputs": [
        {
          "output_type": "execute_result",
          "data": {
            "text/plain": [
              "    Transaction Date  Post Date             Description Category  Type  \\\n",
              "17         8/21/2023  8/23/2023   SHELL OIL 57444216105      Gas  Sale   \n",
              "34         8/15/2023  8/16/2023         CHEVRON 0090878      Gas  Sale   \n",
              "61          8/8/2023  8/10/2023  Aral Station 140980178      Gas  Sale   \n",
              "68          8/3/2023   8/6/2023  Aral Station 140486127      Gas  Sale   \n",
              "126        7/10/2023  7/11/2023         CHEVRON 0090878      Gas  Sale   \n",
              "\n",
              "     Amount  Memo  \n",
              "17   -83.03   NaN  \n",
              "34   -64.01   NaN  \n",
              "61  -110.53   NaN  \n",
              "68   -82.11   NaN  \n",
              "126  -78.66   NaN  "
            ],
            "text/html": [
              "\n",
              "  <div id=\"df-98f9daba-7d0b-4f3e-acc4-f0cc3f61d07b\" class=\"colab-df-container\">\n",
              "    <div>\n",
              "<style scoped>\n",
              "    .dataframe tbody tr th:only-of-type {\n",
              "        vertical-align: middle;\n",
              "    }\n",
              "\n",
              "    .dataframe tbody tr th {\n",
              "        vertical-align: top;\n",
              "    }\n",
              "\n",
              "    .dataframe thead th {\n",
              "        text-align: right;\n",
              "    }\n",
              "</style>\n",
              "<table border=\"1\" class=\"dataframe\">\n",
              "  <thead>\n",
              "    <tr style=\"text-align: right;\">\n",
              "      <th></th>\n",
              "      <th>Transaction Date</th>\n",
              "      <th>Post Date</th>\n",
              "      <th>Description</th>\n",
              "      <th>Category</th>\n",
              "      <th>Type</th>\n",
              "      <th>Amount</th>\n",
              "      <th>Memo</th>\n",
              "    </tr>\n",
              "  </thead>\n",
              "  <tbody>\n",
              "    <tr>\n",
              "      <th>17</th>\n",
              "      <td>8/21/2023</td>\n",
              "      <td>8/23/2023</td>\n",
              "      <td>SHELL OIL 57444216105</td>\n",
              "      <td>Gas</td>\n",
              "      <td>Sale</td>\n",
              "      <td>-83.03</td>\n",
              "      <td>NaN</td>\n",
              "    </tr>\n",
              "    <tr>\n",
              "      <th>34</th>\n",
              "      <td>8/15/2023</td>\n",
              "      <td>8/16/2023</td>\n",
              "      <td>CHEVRON 0090878</td>\n",
              "      <td>Gas</td>\n",
              "      <td>Sale</td>\n",
              "      <td>-64.01</td>\n",
              "      <td>NaN</td>\n",
              "    </tr>\n",
              "    <tr>\n",
              "      <th>61</th>\n",
              "      <td>8/8/2023</td>\n",
              "      <td>8/10/2023</td>\n",
              "      <td>Aral Station 140980178</td>\n",
              "      <td>Gas</td>\n",
              "      <td>Sale</td>\n",
              "      <td>-110.53</td>\n",
              "      <td>NaN</td>\n",
              "    </tr>\n",
              "    <tr>\n",
              "      <th>68</th>\n",
              "      <td>8/3/2023</td>\n",
              "      <td>8/6/2023</td>\n",
              "      <td>Aral Station 140486127</td>\n",
              "      <td>Gas</td>\n",
              "      <td>Sale</td>\n",
              "      <td>-82.11</td>\n",
              "      <td>NaN</td>\n",
              "    </tr>\n",
              "    <tr>\n",
              "      <th>126</th>\n",
              "      <td>7/10/2023</td>\n",
              "      <td>7/11/2023</td>\n",
              "      <td>CHEVRON 0090878</td>\n",
              "      <td>Gas</td>\n",
              "      <td>Sale</td>\n",
              "      <td>-78.66</td>\n",
              "      <td>NaN</td>\n",
              "    </tr>\n",
              "  </tbody>\n",
              "</table>\n",
              "</div>\n",
              "    <div class=\"colab-df-buttons\">\n",
              "\n",
              "  <div class=\"colab-df-container\">\n",
              "    <button class=\"colab-df-convert\" onclick=\"convertToInteractive('df-98f9daba-7d0b-4f3e-acc4-f0cc3f61d07b')\"\n",
              "            title=\"Convert this dataframe to an interactive table.\"\n",
              "            style=\"display:none;\">\n",
              "\n",
              "  <svg xmlns=\"http://www.w3.org/2000/svg\" height=\"24px\" viewBox=\"0 -960 960 960\">\n",
              "    <path d=\"M120-120v-720h720v720H120Zm60-500h600v-160H180v160Zm220 220h160v-160H400v160Zm0 220h160v-160H400v160ZM180-400h160v-160H180v160Zm440 0h160v-160H620v160ZM180-180h160v-160H180v160Zm440 0h160v-160H620v160Z\"/>\n",
              "  </svg>\n",
              "    </button>\n",
              "\n",
              "  <style>\n",
              "    .colab-df-container {\n",
              "      display:flex;\n",
              "      gap: 12px;\n",
              "    }\n",
              "\n",
              "    .colab-df-convert {\n",
              "      background-color: #E8F0FE;\n",
              "      border: none;\n",
              "      border-radius: 50%;\n",
              "      cursor: pointer;\n",
              "      display: none;\n",
              "      fill: #1967D2;\n",
              "      height: 32px;\n",
              "      padding: 0 0 0 0;\n",
              "      width: 32px;\n",
              "    }\n",
              "\n",
              "    .colab-df-convert:hover {\n",
              "      background-color: #E2EBFA;\n",
              "      box-shadow: 0px 1px 2px rgba(60, 64, 67, 0.3), 0px 1px 3px 1px rgba(60, 64, 67, 0.15);\n",
              "      fill: #174EA6;\n",
              "    }\n",
              "\n",
              "    .colab-df-buttons div {\n",
              "      margin-bottom: 4px;\n",
              "    }\n",
              "\n",
              "    [theme=dark] .colab-df-convert {\n",
              "      background-color: #3B4455;\n",
              "      fill: #D2E3FC;\n",
              "    }\n",
              "\n",
              "    [theme=dark] .colab-df-convert:hover {\n",
              "      background-color: #434B5C;\n",
              "      box-shadow: 0px 1px 3px 1px rgba(0, 0, 0, 0.15);\n",
              "      filter: drop-shadow(0px 1px 2px rgba(0, 0, 0, 0.3));\n",
              "      fill: #FFFFFF;\n",
              "    }\n",
              "  </style>\n",
              "\n",
              "    <script>\n",
              "      const buttonEl =\n",
              "        document.querySelector('#df-98f9daba-7d0b-4f3e-acc4-f0cc3f61d07b button.colab-df-convert');\n",
              "      buttonEl.style.display =\n",
              "        google.colab.kernel.accessAllowed ? 'block' : 'none';\n",
              "\n",
              "      async function convertToInteractive(key) {\n",
              "        const element = document.querySelector('#df-98f9daba-7d0b-4f3e-acc4-f0cc3f61d07b');\n",
              "        const dataTable =\n",
              "          await google.colab.kernel.invokeFunction('convertToInteractive',\n",
              "                                                    [key], {});\n",
              "        if (!dataTable) return;\n",
              "\n",
              "        const docLinkHtml = 'Like what you see? Visit the ' +\n",
              "          '<a target=\"_blank\" href=https://colab.research.google.com/notebooks/data_table.ipynb>data table notebook</a>'\n",
              "          + ' to learn more about interactive tables.';\n",
              "        element.innerHTML = '';\n",
              "        dataTable['output_type'] = 'display_data';\n",
              "        await google.colab.output.renderOutput(dataTable, element);\n",
              "        const docLink = document.createElement('div');\n",
              "        docLink.innerHTML = docLinkHtml;\n",
              "        element.appendChild(docLink);\n",
              "      }\n",
              "    </script>\n",
              "  </div>\n",
              "\n",
              "\n",
              "<div id=\"df-f7837941-8aee-4d85-a2d2-28120dde57eb\">\n",
              "  <button class=\"colab-df-quickchart\" onclick=\"quickchart('df-f7837941-8aee-4d85-a2d2-28120dde57eb')\"\n",
              "            title=\"Suggest charts.\"\n",
              "            style=\"display:none;\">\n",
              "\n",
              "<svg xmlns=\"http://www.w3.org/2000/svg\" height=\"24px\"viewBox=\"0 0 24 24\"\n",
              "     width=\"24px\">\n",
              "    <g>\n",
              "        <path d=\"M19 3H5c-1.1 0-2 .9-2 2v14c0 1.1.9 2 2 2h14c1.1 0 2-.9 2-2V5c0-1.1-.9-2-2-2zM9 17H7v-7h2v7zm4 0h-2V7h2v10zm4 0h-2v-4h2v4z\"/>\n",
              "    </g>\n",
              "</svg>\n",
              "  </button>\n",
              "\n",
              "<style>\n",
              "  .colab-df-quickchart {\n",
              "      --bg-color: #E8F0FE;\n",
              "      --fill-color: #1967D2;\n",
              "      --hover-bg-color: #E2EBFA;\n",
              "      --hover-fill-color: #174EA6;\n",
              "      --disabled-fill-color: #AAA;\n",
              "      --disabled-bg-color: #DDD;\n",
              "  }\n",
              "\n",
              "  [theme=dark] .colab-df-quickchart {\n",
              "      --bg-color: #3B4455;\n",
              "      --fill-color: #D2E3FC;\n",
              "      --hover-bg-color: #434B5C;\n",
              "      --hover-fill-color: #FFFFFF;\n",
              "      --disabled-bg-color: #3B4455;\n",
              "      --disabled-fill-color: #666;\n",
              "  }\n",
              "\n",
              "  .colab-df-quickchart {\n",
              "    background-color: var(--bg-color);\n",
              "    border: none;\n",
              "    border-radius: 50%;\n",
              "    cursor: pointer;\n",
              "    display: none;\n",
              "    fill: var(--fill-color);\n",
              "    height: 32px;\n",
              "    padding: 0;\n",
              "    width: 32px;\n",
              "  }\n",
              "\n",
              "  .colab-df-quickchart:hover {\n",
              "    background-color: var(--hover-bg-color);\n",
              "    box-shadow: 0 1px 2px rgba(60, 64, 67, 0.3), 0 1px 3px 1px rgba(60, 64, 67, 0.15);\n",
              "    fill: var(--button-hover-fill-color);\n",
              "  }\n",
              "\n",
              "  .colab-df-quickchart-complete:disabled,\n",
              "  .colab-df-quickchart-complete:disabled:hover {\n",
              "    background-color: var(--disabled-bg-color);\n",
              "    fill: var(--disabled-fill-color);\n",
              "    box-shadow: none;\n",
              "  }\n",
              "\n",
              "  .colab-df-spinner {\n",
              "    border: 2px solid var(--fill-color);\n",
              "    border-color: transparent;\n",
              "    border-bottom-color: var(--fill-color);\n",
              "    animation:\n",
              "      spin 1s steps(1) infinite;\n",
              "  }\n",
              "\n",
              "  @keyframes spin {\n",
              "    0% {\n",
              "      border-color: transparent;\n",
              "      border-bottom-color: var(--fill-color);\n",
              "      border-left-color: var(--fill-color);\n",
              "    }\n",
              "    20% {\n",
              "      border-color: transparent;\n",
              "      border-left-color: var(--fill-color);\n",
              "      border-top-color: var(--fill-color);\n",
              "    }\n",
              "    30% {\n",
              "      border-color: transparent;\n",
              "      border-left-color: var(--fill-color);\n",
              "      border-top-color: var(--fill-color);\n",
              "      border-right-color: var(--fill-color);\n",
              "    }\n",
              "    40% {\n",
              "      border-color: transparent;\n",
              "      border-right-color: var(--fill-color);\n",
              "      border-top-color: var(--fill-color);\n",
              "    }\n",
              "    60% {\n",
              "      border-color: transparent;\n",
              "      border-right-color: var(--fill-color);\n",
              "    }\n",
              "    80% {\n",
              "      border-color: transparent;\n",
              "      border-right-color: var(--fill-color);\n",
              "      border-bottom-color: var(--fill-color);\n",
              "    }\n",
              "    90% {\n",
              "      border-color: transparent;\n",
              "      border-bottom-color: var(--fill-color);\n",
              "    }\n",
              "  }\n",
              "</style>\n",
              "\n",
              "  <script>\n",
              "    async function quickchart(key) {\n",
              "      const quickchartButtonEl =\n",
              "        document.querySelector('#' + key + ' button');\n",
              "      quickchartButtonEl.disabled = true;  // To prevent multiple clicks.\n",
              "      quickchartButtonEl.classList.add('colab-df-spinner');\n",
              "      try {\n",
              "        const charts = await google.colab.kernel.invokeFunction(\n",
              "            'suggestCharts', [key], {});\n",
              "      } catch (error) {\n",
              "        console.error('Error during call to suggestCharts:', error);\n",
              "      }\n",
              "      quickchartButtonEl.classList.remove('colab-df-spinner');\n",
              "      quickchartButtonEl.classList.add('colab-df-quickchart-complete');\n",
              "    }\n",
              "    (() => {\n",
              "      let quickchartButtonEl =\n",
              "        document.querySelector('#df-f7837941-8aee-4d85-a2d2-28120dde57eb button');\n",
              "      quickchartButtonEl.style.display =\n",
              "        google.colab.kernel.accessAllowed ? 'block' : 'none';\n",
              "    })();\n",
              "  </script>\n",
              "</div>\n",
              "    </div>\n",
              "  </div>\n"
            ]
          },
          "metadata": {},
          "execution_count": 33
        }
      ]
    },
    {
      "cell_type": "markdown",
      "metadata": {
        "id": "Z7lztAF3OXWm"
      },
      "source": [
        "## NEXT / General ideas\n",
        "General algo\n",
        "*   For all Amazon transactions\n",
        "  * run the Amazon Orders program and put them into a QIF file\n",
        "*   Go through all other payees\n",
        "  *   List item\n",
        "\n",
        "* Submit Feedback - does it actually work?\n"
      ]
    },
    {
      "cell_type": "markdown",
      "metadata": {
        "id": "WtQhVLSHJLlW"
      },
      "source": [
        "# Amazon Orders"
      ]
    },
    {
      "cell_type": "markdown",
      "metadata": {
        "id": "C9hy0JM0ARXw"
      },
      "source": [
        "## Pricing"
      ]
    },
    {
      "cell_type": "code",
      "execution_count": null,
      "metadata": {
        "id": "EYQsABm-B2Aa"
      },
      "outputs": [],
      "source": [
        "### PRICE TOTALS CALCULATIONS ###\n",
        "### HEADER ###\n",
        "\n",
        "# Extract the individual payments for one row and put them into columns\n",
        "def extract_individual_payments_into_columns(df, column_name):\n",
        "    # Extract dollar values from the specified column\n",
        "    payments_dollar_values = df[column_name].str.findall(r'\\$(\\d+\\.\\d+)')\n",
        "\n",
        "    # Determine the maximum number of payments in any row\n",
        "    max_payments = payments_dollar_values.apply(len).max()\n",
        "\n",
        "    # Pad the lists to ensure they all have a length of max_payments\n",
        "    padded_payments = payments_dollar_values.apply(lambda x: x + [None] * (max_payments - len(x)))\n",
        "\n",
        "    # Convert the padded lists to a DataFrame with dynamic column names\n",
        "    payment_columns = [f'payment_{i+1}' for i in range(max_payments)]\n",
        "    df[payment_columns] = pd.DataFrame(padded_payments.tolist(), index=df.index)\n",
        "\n",
        "    # Convert string values to float for further analysis if needed\n",
        "    for col in payment_columns:\n",
        "        df[col] = df[col].astype(float)\n",
        "\n",
        "# Apply the function to the original dataframe\n",
        "extract_individual_payments_into_columns(amazon_order_headers, \"payments\")\n",
        "\n",
        "# amazon_order_headers.head()"
      ]
    },
    {
      "cell_type": "code",
      "execution_count": null,
      "metadata": {
        "id": "EU-bZmWavWB9"
      },
      "outputs": [],
      "source": [
        "### PRICE TOTALS CALCULATIONS ###\n",
        "### ITEMS ###\n",
        "\n",
        "# Item Totals (Quantity * Price) #\n",
        "amazon_order_items = amazon_order_items.copy()\n",
        "if amazon_order_items['price'].dtype == 'object':\n",
        "    amazon_order_items['price'] = pd.to_numeric(amazon_order_items['price'].str.replace('[\\$,]', '', regex=True), errors='coerce')\n",
        "amazon_order_items['quantity'] = amazon_order_items['quantity'].replace([' ', ''], np.nan)\n",
        "amazon_order_items['quantity'] = pd.to_numeric(amazon_order_items['quantity'], errors='coerce').fillna(1)\n",
        "amazon_order_items['total'] = amazon_order_items['price'] * amazon_order_items['quantity']\n",
        "\n",
        "### Distribution of taxes etc. to individual order items ###\n",
        "\n",
        "# Group the items dataframe by 'order id' and compute the sum of the 'total' column for each order\n",
        "# Merge the summed items total with the headers dataframe on 'order id'\n",
        "# Convert 'total_header' column to numeric format, setting non-numeric values to NaN\n",
        "# Compute the difference between the 'total' from the headers dataframe and the computed sum of items for each order\n",
        "# Compute the count of items for each order\n",
        "# Merge the count of items with the merged dataframe\n",
        "# Compute the 'overall' value for each order\n",
        "# Merge the 'overall' value with the original items dataframe to create the 'overall' column\n",
        "\n",
        "items_sum = amazon_order_items.groupby('order id')['total'].sum().reset_index()\n",
        "merged_df = amazon_order_headers.merge(items_sum, on='order id', how='left', suffixes=('_header', '_items'))\n",
        "merged_df['total_header'] = pd.to_numeric(merged_df['total_header'].str.replace('[\\$,]', '', regex=True), errors='coerce')\n",
        "merged_df['difference'] = merged_df['total_header'] - merged_df['total_items']\n",
        "items_count = amazon_order_items.groupby('order id').size().reset_index(name='count')\n",
        "merged_df = merged_df.merge(items_count, on='order id', how='left')\n",
        "merged_df['residual'] = merged_df['difference'] / merged_df['count']\n",
        "amazon_order_items = amazon_order_items.merge(merged_df[['order id', 'residual']], on='order id', how='left')\n",
        "amazon_order_items['grand_total'] = amazon_order_items['total'] + amazon_order_items['residual'].round(2)\n",
        "\n",
        "amazon_order_items.head()"
      ]
    },
    {
      "cell_type": "markdown",
      "metadata": {
        "id": "-b15vK3yJTdu"
      },
      "source": [
        "## Item categorization"
      ]
    },
    {
      "cell_type": "code",
      "execution_count": null,
      "metadata": {
        "id": "9u840svohIXk"
      },
      "outputs": [],
      "source": [
        "# Initialize a category column with default value as 'non-grocery'\n",
        "amazon_order_items['category'] = 'n/a'\n",
        "\n",
        "# Check each item description against the keywords\n",
        "for keyword in grocery_keywords:\n",
        "    amazon_order_items.loc[amazon_order_items['description'].str.lower().str.contains(keyword, na=False), 'category'] = 'grocery'\n",
        "\n",
        "amazon_order_items.head()\n"
      ]
    },
    {
      "cell_type": "markdown",
      "metadata": {
        "id": "Bmms2dukAbXP"
      },
      "source": [
        "# Output"
      ]
    },
    {
      "cell_type": "markdown",
      "metadata": {
        "id": "KpFfTLKGJWvV"
      },
      "source": [
        "## Transaction creation"
      ]
    },
    {
      "cell_type": "code",
      "execution_count": null,
      "metadata": {
        "id": "SzlqJ5NPIyqt"
      },
      "outputs": [],
      "source": [
        "### SPLIT TRANSACTION ###\n",
        "\n",
        "def create_split(category, memo, amount):\n",
        "    return (category, memo, amount)\n",
        "\n",
        "def create_transaction(date, total_amount, payee, memo, category=None, splits=None):\n",
        "    return {\n",
        "        \"date\": date,\n",
        "        \"total_amount\": total_amount,\n",
        "        \"payee\": payee,\n",
        "        \"memo\": memo,\n",
        "        \"category\": category,\n",
        "        \"splits\": splits\n",
        "    }\n",
        "\n",
        "def export_qif_transactions(filename, transactions):\n",
        "    qif_content = \"!Type:Cash\\n\"\n",
        "\n",
        "    for transaction in transactions:\n",
        "        # Add the transaction details\n",
        "        qif_content += f\"D{transaction['date']}\\n\"\n",
        "        qif_content += f\"T{transaction['total_amount']}\\n\"\n",
        "        qif_content += f\"P{transaction['payee']}\\n\"\n",
        "        qif_content += f\"M{transaction['memo']}\\n\"\n",
        "\n",
        "        # If a category is provided for a simple transaction, add it\n",
        "        if transaction.get('category') and not transaction.get('splits'):\n",
        "            qif_content += f\"L{transaction['category']}\\n\"\n",
        "\n",
        "        # If splits exist for the transaction, add them\n",
        "        splits = transaction.get('splits')\n",
        "        if splits:\n",
        "            qif_content += \"LSplit Transaction\\n\"\n",
        "            for split in splits:\n",
        "                category, memo, amount = split\n",
        "                qif_content += f\"S{category}\\n\"\n",
        "                qif_content += f\"E{memo}\\n\"\n",
        "                qif_content += f\"${amount}\\n\"\n",
        "\n",
        "        # End the transaction\n",
        "        qif_content += \"^\\n\"\n",
        "\n",
        "    # Export to a file in Google Drive\n",
        "    with open(HOME_PATH + \"/results/\" + filename, \"w\") as file:\n",
        "        file.write(qif_content)\n",
        "\n",
        "def export_qif_transactions_by_chunk(transactions, x, base_filename=\"transactions\"):\n",
        "    \"\"\"\n",
        "    Export the transactions in QIF format, splitting them into separate files,\n",
        "    each containing up to x transactions.\n",
        "\n",
        "    Parameters:\n",
        "    - transactions: List of transaction dictionaries.\n",
        "    - x: Number of transactions per file.\n",
        "    - base_filename: Base name for the output files. Files will be named as base_filename_1.qif, base_filename_2.qif, ...\n",
        "\n",
        "    Returns:\n",
        "    - List of saved file paths.\n",
        "    \"\"\"\n",
        "\n",
        "    # Validate x\n",
        "    if not (1 <= x <= 100):\n",
        "        raise ValueError(\"x should be between 1 and 100\")\n",
        "\n",
        "    saved_files = []\n",
        "\n",
        "    for idx, i in enumerate(range(0, len(transactions), x)):\n",
        "        chunk = transactions[i:i+x]\n",
        "        qif_content = \"!Type:Cash\\n\"\n",
        "\n",
        "        for transaction in chunk:\n",
        "            # Add the transaction details\n",
        "            qif_content += f\"D{transaction['date']}\\n\"\n",
        "            qif_content += f\"T{transaction['total_amount']}\\n\"\n",
        "            qif_content += f\"P{transaction['payee']}\\n\"\n",
        "            qif_content += f\"M{transaction['memo']}\\n\"\n",
        "\n",
        "            # If a category is provided for a simple transaction, add it\n",
        "            if transaction.get('category') and not transaction.get('splits'):\n",
        "                qif_content += f\"L{transaction['category']}\\n\"\n",
        "\n",
        "            # If splits exist for the transaction, add them\n",
        "            splits = transaction.get('splits')\n",
        "            if splits:\n",
        "                qif_content += \"LSplit Transaction\\n\"\n",
        "                for split in splits:\n",
        "                    category, memo, amount = split\n",
        "                    qif_content += f\"S{category}\\n\"\n",
        "                    qif_content += f\"E{memo}\\n\"\n",
        "                    qif_content += f\"${amount}\\n\"\n",
        "\n",
        "            # End the transaction\n",
        "            qif_content += \"^\\n\"\n",
        "\n",
        "        # Define filename for this chunk\n",
        "        filename = f\"{base_filename}_{idx+1}.qif\"\n",
        "        filepath = HOME_PATH + \"/results/\" + filename\n",
        "\n",
        "        # Export to a file\n",
        "        with open(filepath, \"w\") as file:\n",
        "            file.write(qif_content)\n",
        "\n",
        "        saved_files.append(filepath)\n",
        "\n",
        "    return saved_files\n"
      ]
    },
    {
      "cell_type": "markdown",
      "metadata": {
        "id": "p7mhmSgaAmjb"
      },
      "source": [
        "## QIF File creation"
      ]
    },
    {
      "cell_type": "code",
      "execution_count": null,
      "metadata": {
        "id": "XAKIJlXG5iju"
      },
      "outputs": [],
      "source": [
        "# Using the provided functions to regenerate the QIF transactions and export them\n",
        "\n",
        "# Generate the QIF transactions\n",
        "\n",
        "transactions = []\n",
        "\n",
        "from datetime import datetime\n",
        "\n",
        "# Iterate over each unique order\n",
        "for order_id, group in amazon_order_items.groupby('order id'):\n",
        "    order_date = group['order date'].iloc[0]\n",
        "    total_amount = group['grand_total'].sum()\n",
        "    payee = \"Amazon\" + \" \" + order_id\n",
        "\n",
        "    if len(group) == 1: # Check for single item transactions\n",
        "        row = group.iloc[0]\n",
        "        if row['category'] == 'grocery':\n",
        "            transaction = create_transaction(order_date, f\"{row['grand_total']:.2f}\", \"Amazon \" + order_id, \"\", category=category[\"grocery\"])\n",
        "        else:\n",
        "            transaction = create_transaction(order_date, f\"{total_amount:.2f}\", payee, memo=row['description'])\n",
        "        transactions.append(transaction)\n",
        "\n",
        "    else:\n",
        "        # For multiple items in the transaction:\n",
        "        # Grocery split amount\n",
        "        grocery_total = group.loc[group['category'] == 'grocery', 'grand_total'].sum()\n",
        "\n",
        "        # Non-grocery splits\n",
        "        non_grocery_splits = []\n",
        "        for _, row in group[group['category'] != 'grocery'].iterrows():\n",
        "          # Ensure row has valid data\n",
        "          if 'description' in row and 'grand_total' in row:\n",
        "            split = create_split(\"\", row['description'], f\"{row['grand_total']:.2f}\")\n",
        "            non_grocery_splits.append(split)\n",
        "\n",
        "        # If grocery total is not zero, add it as a split\n",
        "        if grocery_total != 0:\n",
        "            grocery_split = create_split(category[\"grocery\"], \"\", f\"{grocery_total:.2f}\")\n",
        "            non_grocery_splits.append(grocery_split)\n",
        "\n",
        "        # Create the transaction\n",
        "        transaction = create_transaction(order_date, f\"{total_amount:.2f}\", \"Amazon \" + order_id, \"\", splits=non_grocery_splits)\n",
        "        transactions.append(transaction)\n",
        "\n",
        "# Export the transactions to a QIF file by chunks\n",
        "export_qif_transactions_by_chunk(transactions, 100)\n"
      ]
    }
  ],
  "metadata": {
    "colab": {
      "collapsed_sections": [
        "WtQhVLSHJLlW",
        "C9hy0JM0ARXw",
        "-b15vK3yJTdu",
        "Bmms2dukAbXP"
      ],
      "provenance": [],
      "toc_visible": true,
      "include_colab_link": true
    },
    "kernelspec": {
      "display_name": "Python (Pyodide)",
      "language": "python",
      "name": "python"
    },
    "language_info": {
      "codemirror_mode": {
        "name": "python",
        "version": 3
      },
      "file_extension": ".py",
      "mimetype": "text/x-python",
      "name": "python",
      "nbconvert_exporter": "python",
      "pygments_lexer": "ipython3",
      "version": "3.8"
    },
    "widgets": {
      "application/vnd.jupyter.widget-state+json": {
        "572d146dfbc648deac4eaf3ec582ecb4": {
          "model_module": "@jupyter-widgets/controls",
          "model_name": "VBoxModel",
          "model_module_version": "1.5.0",
          "state": {
            "_dom_classes": [],
            "_model_module": "@jupyter-widgets/controls",
            "_model_module_version": "1.5.0",
            "_model_name": "VBoxModel",
            "_view_count": null,
            "_view_module": "@jupyter-widgets/controls",
            "_view_module_version": "1.5.0",
            "_view_name": "VBoxView",
            "box_style": "",
            "children": [
              "IPY_MODEL_012afdfda8d34fbea4e9a63b81eae36d"
            ],
            "layout": "IPY_MODEL_fe3377c6509d4a468f191e68e7edbd3c"
          }
        },
        "012afdfda8d34fbea4e9a63b81eae36d": {
          "model_module": "@jupyter-widgets/controls",
          "model_name": "ButtonModel",
          "model_module_version": "1.5.0",
          "state": {
            "_dom_classes": [],
            "_model_module": "@jupyter-widgets/controls",
            "_model_module_version": "1.5.0",
            "_model_name": "ButtonModel",
            "_view_count": null,
            "_view_module": "@jupyter-widgets/controls",
            "_view_module_version": "1.5.0",
            "_view_name": "ButtonView",
            "button_style": "",
            "description": "Submit Feedback",
            "disabled": false,
            "icon": "",
            "layout": "IPY_MODEL_bba7d8944aaa49e4b526ff89bd41ef57",
            "style": "IPY_MODEL_9b08dec1d3c54fa3a205c0bdf9631940",
            "tooltip": ""
          }
        },
        "fe3377c6509d4a468f191e68e7edbd3c": {
          "model_module": "@jupyter-widgets/base",
          "model_name": "LayoutModel",
          "model_module_version": "1.2.0",
          "state": {
            "_model_module": "@jupyter-widgets/base",
            "_model_module_version": "1.2.0",
            "_model_name": "LayoutModel",
            "_view_count": null,
            "_view_module": "@jupyter-widgets/base",
            "_view_module_version": "1.2.0",
            "_view_name": "LayoutView",
            "align_content": null,
            "align_items": null,
            "align_self": null,
            "border": null,
            "bottom": null,
            "display": null,
            "flex": null,
            "flex_flow": null,
            "grid_area": null,
            "grid_auto_columns": null,
            "grid_auto_flow": null,
            "grid_auto_rows": null,
            "grid_column": null,
            "grid_gap": null,
            "grid_row": null,
            "grid_template_areas": null,
            "grid_template_columns": null,
            "grid_template_rows": null,
            "height": null,
            "justify_content": null,
            "justify_items": null,
            "left": null,
            "margin": null,
            "max_height": null,
            "max_width": null,
            "min_height": null,
            "min_width": null,
            "object_fit": null,
            "object_position": null,
            "order": null,
            "overflow": null,
            "overflow_x": null,
            "overflow_y": null,
            "padding": null,
            "right": null,
            "top": null,
            "visibility": null,
            "width": null
          }
        },
        "bba7d8944aaa49e4b526ff89bd41ef57": {
          "model_module": "@jupyter-widgets/base",
          "model_name": "LayoutModel",
          "model_module_version": "1.2.0",
          "state": {
            "_model_module": "@jupyter-widgets/base",
            "_model_module_version": "1.2.0",
            "_model_name": "LayoutModel",
            "_view_count": null,
            "_view_module": "@jupyter-widgets/base",
            "_view_module_version": "1.2.0",
            "_view_name": "LayoutView",
            "align_content": null,
            "align_items": null,
            "align_self": null,
            "border": null,
            "bottom": null,
            "display": null,
            "flex": null,
            "flex_flow": null,
            "grid_area": null,
            "grid_auto_columns": null,
            "grid_auto_flow": null,
            "grid_auto_rows": null,
            "grid_column": null,
            "grid_gap": null,
            "grid_row": null,
            "grid_template_areas": null,
            "grid_template_columns": null,
            "grid_template_rows": null,
            "height": null,
            "justify_content": null,
            "justify_items": null,
            "left": null,
            "margin": null,
            "max_height": null,
            "max_width": null,
            "min_height": null,
            "min_width": null,
            "object_fit": null,
            "object_position": null,
            "order": null,
            "overflow": null,
            "overflow_x": null,
            "overflow_y": null,
            "padding": null,
            "right": null,
            "top": null,
            "visibility": null,
            "width": null
          }
        },
        "9b08dec1d3c54fa3a205c0bdf9631940": {
          "model_module": "@jupyter-widgets/controls",
          "model_name": "ButtonStyleModel",
          "model_module_version": "1.5.0",
          "state": {
            "_model_module": "@jupyter-widgets/controls",
            "_model_module_version": "1.5.0",
            "_model_name": "ButtonStyleModel",
            "_view_count": null,
            "_view_module": "@jupyter-widgets/base",
            "_view_module_version": "1.2.0",
            "_view_name": "StyleView",
            "button_color": null,
            "font_weight": ""
          }
        }
      }
    }
  },
  "nbformat": 4,
  "nbformat_minor": 0
}