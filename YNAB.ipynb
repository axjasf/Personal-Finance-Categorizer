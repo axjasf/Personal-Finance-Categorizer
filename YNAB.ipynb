{
  "cells": [
    {
      "cell_type": "markdown",
      "metadata": {
        "id": "view-in-github",
        "colab_type": "text"
      },
      "source": [
        "<a href=\"https://colab.research.google.com/github/axjasf/YNAB-Categorizer/blob/main/YNAB.ipynb\" target=\"_parent\"><img src=\"https://colab.research.google.com/assets/colab-badge.svg\" alt=\"Open In Colab\"/></a>"
      ]
    },
    {
      "cell_type": "markdown",
      "metadata": {
        "id": "Du22rj5WJAb0"
      },
      "source": [
        "# Setup"
      ]
    },
    {
      "cell_type": "markdown",
      "metadata": {
        "id": "zSnV2jGC81Ro"
      },
      "source": [
        "## Libraries"
      ]
    },
    {
      "cell_type": "code",
      "execution_count": 1,
      "metadata": {
        "colab": {
          "base_uri": "https://localhost:8080/"
        },
        "id": "0mAfAsy54qEt",
        "outputId": "84c311ec-566e-4763-f513-9795cc2fa6ec"
      },
      "outputs": [
        {
          "output_type": "stream",
          "name": "stdout",
          "text": [
            "Collecting fuzzywuzzy\n",
            "  Downloading fuzzywuzzy-0.18.0-py2.py3-none-any.whl (18 kB)\n",
            "Installing collected packages: fuzzywuzzy\n",
            "Successfully installed fuzzywuzzy-0.18.0\n",
            "Collecting python-Levenshtein\n",
            "  Downloading python_Levenshtein-0.21.1-py3-none-any.whl (9.4 kB)\n",
            "Collecting Levenshtein==0.21.1 (from python-Levenshtein)\n",
            "  Downloading Levenshtein-0.21.1-cp310-cp310-manylinux_2_17_x86_64.manylinux2014_x86_64.whl (172 kB)\n",
            "\u001b[2K     \u001b[90m━━━━━━━━━━━━━━━━━━━━━━━━━━━━━━━━━━━━━━━\u001b[0m \u001b[32m172.5/172.5 kB\u001b[0m \u001b[31m2.2 MB/s\u001b[0m eta \u001b[36m0:00:00\u001b[0m\n",
            "\u001b[?25hCollecting rapidfuzz<4.0.0,>=2.3.0 (from Levenshtein==0.21.1->python-Levenshtein)\n",
            "  Downloading rapidfuzz-3.2.0-cp310-cp310-manylinux_2_17_x86_64.manylinux2014_x86_64.whl (3.1 MB)\n",
            "\u001b[2K     \u001b[90m━━━━━━━━━━━━━━━━━━━━━━━━━━━━━━━━━━━━━━━━\u001b[0m \u001b[32m3.1/3.1 MB\u001b[0m \u001b[31m58.7 MB/s\u001b[0m eta \u001b[36m0:00:00\u001b[0m\n",
            "\u001b[?25hInstalling collected packages: rapidfuzz, Levenshtein, python-Levenshtein\n",
            "Successfully installed Levenshtein-0.21.1 python-Levenshtein-0.21.1 rapidfuzz-3.2.0\n"
          ]
        }
      ],
      "source": [
        "# Installing libraries\n",
        "!pip install fuzzywuzzy\n",
        "!pip install python-Levenshtein"
      ]
    },
    {
      "cell_type": "code",
      "execution_count": 2,
      "metadata": {
        "id": "LWKyOP3pB2AW"
      },
      "outputs": [],
      "source": [
        "# Importing libraries\n",
        "import pandas as pd\n",
        "import numpy as np\n",
        "import os\n",
        "from ipywidgets import widgets\n",
        "from IPython.display import display\n",
        "import json\n",
        "import io\n",
        "from fuzzywuzzy import process\n"
      ]
    },
    {
      "cell_type": "markdown",
      "metadata": {
        "id": "qr8Rvkhw5zPm"
      },
      "source": [
        "## Files"
      ]
    },
    {
      "cell_type": "code",
      "execution_count": 3,
      "metadata": {
        "id": "Mp6UzOPyB0H7"
      },
      "outputs": [],
      "source": [
        "# Folder names and File names\n",
        "\n",
        "HOME_PATH = \"/content/drive/MyDrive/Colab Notebooks/YNAB/\"\n",
        "CONFIG_PATH = HOME_PATH + \"/config/\"\n",
        "TRANSACTIONS_PATH = HOME_PATH + \"/transactions/\"\n",
        "\n",
        "TRANSACTIONS_FILE = \"chase.csv\"\n"
      ]
    },
    {
      "cell_type": "code",
      "execution_count": 4,
      "metadata": {
        "colab": {
          "base_uri": "https://localhost:8080/"
        },
        "id": "d6aB9k_ISzED",
        "outputId": "638485fa-682c-4716-956c-5398b2605913"
      },
      "outputs": [
        {
          "output_type": "stream",
          "name": "stdout",
          "text": [
            "Mounted at /content/drive\n"
          ]
        }
      ],
      "source": [
        "# Mounting Google Drive\n",
        "from google.colab import drive\n",
        "drive.mount('/content/drive')"
      ]
    },
    {
      "cell_type": "code",
      "execution_count": 5,
      "metadata": {
        "id": "dAgKnqJN6TP-"
      },
      "outputs": [],
      "source": [
        "### Config Files ###\n",
        "\n",
        "# Read Grocery keywords\n",
        "grocery_keywords_df = pd.read_csv(CONFIG_PATH + 'grocery_keywords.csv')\n",
        "grocery_keywords = grocery_keywords_df.iloc[:, 0].str.lower().tolist()\n",
        "\n",
        "# Checking, if data is valid\n",
        "# grocery_keywords_df.head()"
      ]
    },
    {
      "cell_type": "code",
      "execution_count": 6,
      "metadata": {
        "id": "Y10m-5PyB2AZ"
      },
      "outputs": [],
      "source": [
        "### Amazon Orders ###\n",
        "\n",
        "# Read Amazon Order Headers and Items\n",
        "amazon_order_headers_df = pd.read_csv(TRANSACTIONS_PATH + 'amazon_order_headers.csv')\n",
        "amazon_order_items_df = pd.read_csv(TRANSACTIONS_PATH + 'amazon_order_items.csv')\n",
        "\n",
        "# Checking, if data is valid\n",
        "# amazon_order_headers_df.head()\n",
        "# amazon_order_items_df.head()"
      ]
    },
    {
      "cell_type": "code",
      "execution_count": 7,
      "metadata": {
        "id": "vYYHZK8hBLiq"
      },
      "outputs": [],
      "source": [
        "### Transactions ###\n",
        "\n",
        "# Read bank transactions\n",
        "transactions_df = pd.read_csv(TRANSACTIONS_PATH + TRANSACTIONS_FILE)\n",
        "\n",
        "# Checking, if data is valid\n",
        "# transactions_df.head()\n"
      ]
    },
    {
      "cell_type": "markdown",
      "metadata": {
        "id": "4Ag4BVjA874M"
      },
      "source": [
        "## Global Variables"
      ]
    },
    {
      "cell_type": "code",
      "execution_count": 8,
      "metadata": {
        "id": "D0D3NNJaSwGM"
      },
      "outputs": [],
      "source": [
        "### CONSTANTS ###\n",
        "\n",
        "# Major categories\n",
        "category= {\n",
        "    \"grocery\" : \"Food, Sports, Entertainment:Food - Groceries & Errands\"\n",
        "}"
      ]
    },
    {
      "cell_type": "markdown",
      "metadata": {
        "id": "IL8v7yhjC7lu"
      },
      "source": [
        "# Transactions preparation"
      ]
    },
    {
      "cell_type": "markdown",
      "metadata": {
        "id": "nsQBnO-xEBbE"
      },
      "source": [
        "## Amazon Payee identification"
      ]
    },
    {
      "cell_type": "code",
      "execution_count": 22,
      "metadata": {
        "id": "U3Jh47WNWmrE",
        "colab": {
          "base_uri": "https://localhost:8080/",
          "height": 81,
          "referenced_widgets": [
            "0e87401dfb2a42ebb3a0379aff9fa4cc",
            "ee7436fd20854e5d9273cae84cf8747e",
            "a5c287021db342588bc1747a04561db6",
            "b1ce0446b982407fa6771561d291ad63",
            "fbd25c08b74942148f66a29ee335dce1",
            "ab14845d19de4dd39db5f5ea7203a331",
            "cecd5f3b7c894bcdaa3e7d4f2d28ed6f",
            "fc89b6a1cf7c44a4b2060e48ff138805",
            "08650ddaa5814328b1ace30aabf3caff",
            "739ad7019dd44eb7a4c5682e002c9244",
            "8f99149dc0424593be003a106d653da3",
            "dafd611cb58e4df892323a0676301d00",
            "92c2832598cd42c588d15a4e7a3d01a7",
            "756a9c8148cb4bdfaec3a1f9da88451a",
            "55acbb659f3047f29adbff6eb12fe951",
            "4dc1f7ed19a746669c4b1dc7f1434e14"
          ]
        },
        "outputId": "c6742810-2fae-49cf-8b90-6a80308ff251"
      },
      "outputs": [
        {
          "output_type": "display_data",
          "data": {
            "text/plain": [
              "VBox(children=(HBox(children=(Button(description='Accept all', style=ButtonStyle()), Button(description='Remov…"
            ],
            "application/vnd.jupyter.widget-view+json": {
              "version_major": 2,
              "version_minor": 0,
              "model_id": "0e87401dfb2a42ebb3a0379aff9fa4cc"
            }
          },
          "metadata": {}
        }
      ],
      "source": [
        "# interactive\n",
        "\n",
        "import time\n",
        "\n",
        "CONFIG_FILE_PATH = HOME_PATH + \"/config/gas_stations_patterns_config.json\"\n",
        "\n",
        "# Add a global variable to keep track of payees to remove\n",
        "payees_to_remove = []\n",
        "\n",
        "def load_config(file_path):\n",
        "    \"\"\"Load configurations from the given file path.\"\"\"\n",
        "    with open(file_path, 'r') as file:\n",
        "        return json.load(file)\n",
        "\n",
        "def identify_potential_outliers(transactions_df, config):\n",
        "    patterns = config[\"patterns\"]\n",
        "    threshold = config[\"fuzzy_threshold\"]\n",
        "    payee_field = \"Description\"\n",
        "    negative_list = config.get(\"negative_list\", [])\n",
        "\n",
        "    # Identify matched entries\n",
        "    direct_matches = direct_match(transactions_df, patterns, payee_field)\n",
        "    fuzzy_matches = fuzzy_match(transactions_df, patterns, payee_field)\n",
        "\n",
        "    all_matches = list(set(direct_matches + [item[0] for item in fuzzy_matches if item[1] >= threshold]))\n",
        "\n",
        "    # Filter out any payees present in the negative_list from the all_matches\n",
        "    all_matches = [match for match in all_matches if match not in negative_list]\n",
        "\n",
        "    # Assign matched_df to all matches\n",
        "    matched_df = transactions_df[transactions_df[payee_field].isin(all_matches)]\n",
        "\n",
        "    uncertain_matches = log_uncertain_matches(transactions_df, patterns, threshold, payee_field)\n",
        "    uncertain_payees = [entry[0] for entry in uncertain_matches]\n",
        "\n",
        "    # Filter out any payees present in the negative_list from the uncertain_payees\n",
        "    uncertain_payees = [payee for payee in uncertain_payees if payee not in negative_list]\n",
        "\n",
        "    return uncertain_payees, all_matches, matched_df, threshold\n",
        "\n",
        "def process_feedback(entry, action):\n",
        "    \"\"\"Process user feedback.\"\"\"\n",
        "    if action == \"add_to_patterns\":\n",
        "        config['patterns'].append(entry)\n",
        "    elif action == \"remove_from_df\":\n",
        "        # Add to the negative list\n",
        "        config['negative_list'].append(entry)\n",
        "        # Logic to remove the entry from the results DataFrame goes here\n",
        "    elif action == \"add_to_pending_review\":\n",
        "        config['monitoring']['pending_review'].append(entry)\n",
        "\n",
        "    # Save the updated config back to the file\n",
        "    with open(CONFIG_PATH + 'gas_stations_patterns_config.json', 'w') as file:\n",
        "        json.dump(config, file)\n",
        "\n",
        "def direct_match(transactions_df, patterns, payee_field):\n",
        "    \"\"\"Identify direct matches based on patterns.\"\"\"\n",
        "    matched_entries = []\n",
        "    for pattern in patterns:\n",
        "        matched_entries.extend(transactions_df[transactions_df[payee_field].str.contains(pattern, case=False, na=False)][payee_field].unique().tolist())\n",
        "    return matched_entries\n",
        "\n",
        "def fuzzy_match(transactions_df, patterns, payee_field):\n",
        "    \"\"\"Identify all fuzzy matches based on patterns.\"\"\"\n",
        "    matched_entries_with_scores = []\n",
        "    for payee in transactions_df[payee_field].unique():\n",
        "        for pattern in patterns:\n",
        "            score = process.extractOne(pattern, [payee])[1]\n",
        "            matched_entries_with_scores.append((payee, score))\n",
        "    return matched_entries_with_scores\n",
        "\n",
        "def log_uncertain_matches(transactions_df, patterns, threshold, payee_field):\n",
        "    \"\"\"Log uncertain matches for review.\"\"\"\n",
        "    log_entries = []\n",
        "    for payee in transactions_df[payee_field].unique():\n",
        "        for pattern in patterns:\n",
        "            score = process.extractOne(pattern, [payee])[1]\n",
        "            if 70 <= score < threshold:\n",
        "                log_entries.append((payee, score))\n",
        "    return log_entries\n",
        "\n",
        "def create_feedback_widgets(matches_with_scores, threshold):\n",
        "    \"\"\"Create interactive widgets for user feedback on matches with scores.\"\"\"\n",
        "\n",
        "    # Initialize an empty list to store the widgets\n",
        "    widgets_list = []\n",
        "\n",
        "    # Filter matches_with_scores based on the threshold\n",
        "    filtered_matches_with_scores = [(entry, score) for entry, score in matches_with_scores if score >= threshold]\n",
        "\n",
        "    for entry, score in filtered_matches_with_scores:\n",
        "        checkbox = widgets.Checkbox(value=False, description=f\"{entry} (Score: {score})\")\n",
        "\n",
        "        # Preselect dropdown based on score\n",
        "        preselected_action = 'add_to_patterns'\n",
        "\n",
        "        action_dropdown = widgets.Dropdown(\n",
        "            options=['add_to_patterns', 'remove_from_df', 'add_to_pending_review'],\n",
        "            value=preselected_action,\n",
        "            description='Action:'\n",
        "        )\n",
        "\n",
        "        hbox = widgets.HBox([checkbox, action_dropdown])\n",
        "        widgets_list.append(hbox)  # Append the HBox to the widgets list\n",
        "        # display(hbox)\n",
        "\n",
        "    # Add bulk action buttons\n",
        "    def bulk_action(action):\n",
        "        for hbox in widgets_list:\n",
        "            _, action_dropdown = hbox.children\n",
        "            action_dropdown.value = action\n",
        "\n",
        "    accept_all_button = widgets.Button(description=\"Accept all\")\n",
        "    accept_all_button.on_click(lambda x: bulk_action('add_to_patterns'))\n",
        "\n",
        "    remove_all_button = widgets.Button(description=\"Remove from DF all\")\n",
        "    remove_all_button.on_click(lambda x: bulk_action('remove_from_df'))\n",
        "\n",
        "    review_all_button = widgets.Button(description=\"All into review\")\n",
        "    review_all_button.on_click(lambda x: bulk_action('add_to_pending_review'))\n",
        "\n",
        "    bulk_actions = widgets.HBox([accept_all_button, remove_all_button, review_all_button])\n",
        "\n",
        "    submit_button = widgets.Button(description=\"Submit Feedback\")\n",
        "\n",
        "    def on_submit(button):\n",
        "        \"\"\"Handle the feedback upon submission.\"\"\"\n",
        "        global payees_to_remove\n",
        "\n",
        "        for hbox in widgets_list:\n",
        "            checkbox, action_dropdown = hbox.children\n",
        "            entry = checkbox.description.split(\" (Score:\")[0]\n",
        "\n",
        "            # If the checkbox is unchecked, add the payee to the removal list\n",
        "            if not checkbox.value:\n",
        "                payees_to_remove.append(entry)\n",
        "            else:\n",
        "                # Handle feedback for checked checkboxes\n",
        "                action = action_dropdown.value\n",
        "                update_monitor_list(config, entry, action)\n",
        "\n",
        "        # Remove unchecked payees from the dataframe\n",
        "        transactions_df.drop(transactions_df[transactions_df['Description'].isin(payees_to_remove)].index, inplace=True)\n",
        "\n",
        "    submit_button.on_click(on_submit)\n",
        "\n",
        "    return widgets.VBox([bulk_actions] + widgets_list + [submit_button])\n",
        "\n",
        "def update_monitor_list(config, entry, action):\n",
        "    \"\"\"Update the monitoring list and potentially the main patterns based on user input.\"\"\"\n",
        "\n",
        "    # Remove from pending_review\n",
        "    if entry in config['monitoring']['pending_review']:\n",
        "        config['monitoring']['pending_review'].remove(entry)\n",
        "\n",
        "    # Handle based on action\n",
        "    if action == \"add_to_patterns\":\n",
        "        config['patterns'].append(entry)\n",
        "    elif action == \"remove_from_df\":\n",
        "        config['negative_list'].append(entry)\n",
        "        payees_to_remove.append(entry)  # Also add it to the global list of payees to be removed\n",
        "    elif action == \"add_to_pending_review\":\n",
        "        config['monitoring']['pending_review'].append(entry)\n",
        "\n",
        "    # Save the updated config back to the file\n",
        "    with open(CONFIG_FILE_PATH, 'w') as file:\n",
        "        json.dump(config, file)\n",
        "\n",
        "\n",
        "# Load the config\n",
        "config = load_config(CONFIG_FILE_PATH)\n",
        "\n",
        "# Identify potential outliers and matches\n",
        "uncertain_payees, matched_payees, matched_df, threshold = identify_potential_outliers(transactions_df, config)\n",
        "# Get fuzzy matches with scores\n",
        "fuzzy_matches_with_scores = fuzzy_match(transactions_df, config[\"patterns\"], \"Description\")\n",
        "# Display the feedback widgets for all fuzzy matches above the threshold\n",
        "feedback_widgets = create_feedback_widgets(fuzzy_matches_with_scores, threshold)\n",
        "display(feedback_widgets)\n",
        "\n",
        "\n",
        "\n",
        "\n"
      ]
    },
    {
      "cell_type": "markdown",
      "metadata": {
        "id": "Z7lztAF3OXWm"
      },
      "source": [
        "## NEXT / General ideas\n",
        "General algo\n",
        "*   For all Amazon transactions\n",
        "  * run the Amazon Orders program and put them into a QIF file\n",
        "*   Go through all other payees\n",
        "  *   List item\n",
        "\n"
      ]
    },
    {
      "cell_type": "markdown",
      "metadata": {
        "id": "WtQhVLSHJLlW"
      },
      "source": [
        "# Amazon Orders"
      ]
    },
    {
      "cell_type": "markdown",
      "metadata": {
        "id": "C9hy0JM0ARXw"
      },
      "source": [
        "## Pricing"
      ]
    },
    {
      "cell_type": "code",
      "execution_count": null,
      "metadata": {
        "id": "EYQsABm-B2Aa"
      },
      "outputs": [],
      "source": [
        "### PRICE TOTALS CALCULATIONS ###\n",
        "### HEADER ###\n",
        "\n",
        "# Extract the individual payments for one row and put them into columns\n",
        "def extract_individual_payments_into_columns(df, column_name):\n",
        "    # Extract dollar values from the specified column\n",
        "    payments_dollar_values = df[column_name].str.findall(r'\\$(\\d+\\.\\d+)')\n",
        "\n",
        "    # Determine the maximum number of payments in any row\n",
        "    max_payments = payments_dollar_values.apply(len).max()\n",
        "\n",
        "    # Pad the lists to ensure they all have a length of max_payments\n",
        "    padded_payments = payments_dollar_values.apply(lambda x: x + [None] * (max_payments - len(x)))\n",
        "\n",
        "    # Convert the padded lists to a DataFrame with dynamic column names\n",
        "    payment_columns = [f'payment_{i+1}' for i in range(max_payments)]\n",
        "    df[payment_columns] = pd.DataFrame(padded_payments.tolist(), index=df.index)\n",
        "\n",
        "    # Convert string values to float for further analysis if needed\n",
        "    for col in payment_columns:\n",
        "        df[col] = df[col].astype(float)\n",
        "\n",
        "# Apply the function to the original dataframe\n",
        "extract_individual_payments_into_columns(amazon_order_headers, \"payments\")\n",
        "\n",
        "# amazon_order_headers.head()"
      ]
    },
    {
      "cell_type": "code",
      "execution_count": null,
      "metadata": {
        "id": "EU-bZmWavWB9"
      },
      "outputs": [],
      "source": [
        "### PRICE TOTALS CALCULATIONS ###\n",
        "### ITEMS ###\n",
        "\n",
        "# Item Totals (Quantity * Price) #\n",
        "amazon_order_items = amazon_order_items.copy()\n",
        "if amazon_order_items['price'].dtype == 'object':\n",
        "    amazon_order_items['price'] = pd.to_numeric(amazon_order_items['price'].str.replace('[\\$,]', '', regex=True), errors='coerce')\n",
        "amazon_order_items['quantity'] = amazon_order_items['quantity'].replace([' ', ''], np.nan)\n",
        "amazon_order_items['quantity'] = pd.to_numeric(amazon_order_items['quantity'], errors='coerce').fillna(1)\n",
        "amazon_order_items['total'] = amazon_order_items['price'] * amazon_order_items['quantity']\n",
        "\n",
        "### Distribution of taxes etc. to individual order items ###\n",
        "\n",
        "# Group the items dataframe by 'order id' and compute the sum of the 'total' column for each order\n",
        "# Merge the summed items total with the headers dataframe on 'order id'\n",
        "# Convert 'total_header' column to numeric format, setting non-numeric values to NaN\n",
        "# Compute the difference between the 'total' from the headers dataframe and the computed sum of items for each order\n",
        "# Compute the count of items for each order\n",
        "# Merge the count of items with the merged dataframe\n",
        "# Compute the 'overall' value for each order\n",
        "# Merge the 'overall' value with the original items dataframe to create the 'overall' column\n",
        "\n",
        "items_sum = amazon_order_items.groupby('order id')['total'].sum().reset_index()\n",
        "merged_df = amazon_order_headers.merge(items_sum, on='order id', how='left', suffixes=('_header', '_items'))\n",
        "merged_df['total_header'] = pd.to_numeric(merged_df['total_header'].str.replace('[\\$,]', '', regex=True), errors='coerce')\n",
        "merged_df['difference'] = merged_df['total_header'] - merged_df['total_items']\n",
        "items_count = amazon_order_items.groupby('order id').size().reset_index(name='count')\n",
        "merged_df = merged_df.merge(items_count, on='order id', how='left')\n",
        "merged_df['residual'] = merged_df['difference'] / merged_df['count']\n",
        "amazon_order_items = amazon_order_items.merge(merged_df[['order id', 'residual']], on='order id', how='left')\n",
        "amazon_order_items['grand_total'] = amazon_order_items['total'] + amazon_order_items['residual'].round(2)\n",
        "\n",
        "amazon_order_items.head()"
      ]
    },
    {
      "cell_type": "markdown",
      "metadata": {
        "id": "-b15vK3yJTdu"
      },
      "source": [
        "## Item categorization"
      ]
    },
    {
      "cell_type": "code",
      "execution_count": null,
      "metadata": {
        "id": "9u840svohIXk"
      },
      "outputs": [],
      "source": [
        "# Initialize a category column with default value as 'non-grocery'\n",
        "amazon_order_items['category'] = 'n/a'\n",
        "\n",
        "# Check each item description against the keywords\n",
        "for keyword in grocery_keywords:\n",
        "    amazon_order_items.loc[amazon_order_items['description'].str.lower().str.contains(keyword, na=False), 'category'] = 'grocery'\n",
        "\n",
        "amazon_order_items.head()\n"
      ]
    },
    {
      "cell_type": "markdown",
      "metadata": {
        "id": "Bmms2dukAbXP"
      },
      "source": [
        "# Output"
      ]
    },
    {
      "cell_type": "markdown",
      "metadata": {
        "id": "KpFfTLKGJWvV"
      },
      "source": [
        "## Transaction creation"
      ]
    },
    {
      "cell_type": "code",
      "execution_count": null,
      "metadata": {
        "id": "SzlqJ5NPIyqt"
      },
      "outputs": [],
      "source": [
        "### SPLIT TRANSACTION ###\n",
        "\n",
        "def create_split(category, memo, amount):\n",
        "    return (category, memo, amount)\n",
        "\n",
        "def create_transaction(date, total_amount, payee, memo, category=None, splits=None):\n",
        "    return {\n",
        "        \"date\": date,\n",
        "        \"total_amount\": total_amount,\n",
        "        \"payee\": payee,\n",
        "        \"memo\": memo,\n",
        "        \"category\": category,\n",
        "        \"splits\": splits\n",
        "    }\n",
        "\n",
        "def export_qif_transactions(filename, transactions):\n",
        "    qif_content = \"!Type:Cash\\n\"\n",
        "\n",
        "    for transaction in transactions:\n",
        "        # Add the transaction details\n",
        "        qif_content += f\"D{transaction['date']}\\n\"\n",
        "        qif_content += f\"T{transaction['total_amount']}\\n\"\n",
        "        qif_content += f\"P{transaction['payee']}\\n\"\n",
        "        qif_content += f\"M{transaction['memo']}\\n\"\n",
        "\n",
        "        # If a category is provided for a simple transaction, add it\n",
        "        if transaction.get('category') and not transaction.get('splits'):\n",
        "            qif_content += f\"L{transaction['category']}\\n\"\n",
        "\n",
        "        # If splits exist for the transaction, add them\n",
        "        splits = transaction.get('splits')\n",
        "        if splits:\n",
        "            qif_content += \"LSplit Transaction\\n\"\n",
        "            for split in splits:\n",
        "                category, memo, amount = split\n",
        "                qif_content += f\"S{category}\\n\"\n",
        "                qif_content += f\"E{memo}\\n\"\n",
        "                qif_content += f\"${amount}\\n\"\n",
        "\n",
        "        # End the transaction\n",
        "        qif_content += \"^\\n\"\n",
        "\n",
        "    # Export to a file in Google Drive\n",
        "    with open(HOME_PATH + \"/results/\" + filename, \"w\") as file:\n",
        "        file.write(qif_content)\n",
        "\n",
        "def export_qif_transactions_by_chunk(transactions, x, base_filename=\"transactions\"):\n",
        "    \"\"\"\n",
        "    Export the transactions in QIF format, splitting them into separate files,\n",
        "    each containing up to x transactions.\n",
        "\n",
        "    Parameters:\n",
        "    - transactions: List of transaction dictionaries.\n",
        "    - x: Number of transactions per file.\n",
        "    - base_filename: Base name for the output files. Files will be named as base_filename_1.qif, base_filename_2.qif, ...\n",
        "\n",
        "    Returns:\n",
        "    - List of saved file paths.\n",
        "    \"\"\"\n",
        "\n",
        "    # Validate x\n",
        "    if not (1 <= x <= 100):\n",
        "        raise ValueError(\"x should be between 1 and 100\")\n",
        "\n",
        "    saved_files = []\n",
        "\n",
        "    for idx, i in enumerate(range(0, len(transactions), x)):\n",
        "        chunk = transactions[i:i+x]\n",
        "        qif_content = \"!Type:Cash\\n\"\n",
        "\n",
        "        for transaction in chunk:\n",
        "            # Add the transaction details\n",
        "            qif_content += f\"D{transaction['date']}\\n\"\n",
        "            qif_content += f\"T{transaction['total_amount']}\\n\"\n",
        "            qif_content += f\"P{transaction['payee']}\\n\"\n",
        "            qif_content += f\"M{transaction['memo']}\\n\"\n",
        "\n",
        "            # If a category is provided for a simple transaction, add it\n",
        "            if transaction.get('category') and not transaction.get('splits'):\n",
        "                qif_content += f\"L{transaction['category']}\\n\"\n",
        "\n",
        "            # If splits exist for the transaction, add them\n",
        "            splits = transaction.get('splits')\n",
        "            if splits:\n",
        "                qif_content += \"LSplit Transaction\\n\"\n",
        "                for split in splits:\n",
        "                    category, memo, amount = split\n",
        "                    qif_content += f\"S{category}\\n\"\n",
        "                    qif_content += f\"E{memo}\\n\"\n",
        "                    qif_content += f\"${amount}\\n\"\n",
        "\n",
        "            # End the transaction\n",
        "            qif_content += \"^\\n\"\n",
        "\n",
        "        # Define filename for this chunk\n",
        "        filename = f\"{base_filename}_{idx+1}.qif\"\n",
        "        filepath = HOME_PATH + \"/results/\" + filename\n",
        "\n",
        "        # Export to a file\n",
        "        with open(filepath, \"w\") as file:\n",
        "            file.write(qif_content)\n",
        "\n",
        "        saved_files.append(filepath)\n",
        "\n",
        "    return saved_files\n"
      ]
    },
    {
      "cell_type": "markdown",
      "metadata": {
        "id": "p7mhmSgaAmjb"
      },
      "source": [
        "## QIF File creation"
      ]
    },
    {
      "cell_type": "code",
      "execution_count": null,
      "metadata": {
        "id": "XAKIJlXG5iju"
      },
      "outputs": [],
      "source": [
        "# Using the provided functions to regenerate the QIF transactions and export them\n",
        "\n",
        "# Generate the QIF transactions\n",
        "\n",
        "transactions = []\n",
        "\n",
        "from datetime import datetime\n",
        "\n",
        "# Iterate over each unique order\n",
        "for order_id, group in amazon_order_items.groupby('order id'):\n",
        "    order_date = group['order date'].iloc[0]\n",
        "    total_amount = group['grand_total'].sum()\n",
        "    payee = \"Amazon\" + \" \" + order_id\n",
        "\n",
        "    if len(group) == 1: # Check for single item transactions\n",
        "        row = group.iloc[0]\n",
        "        if row['category'] == 'grocery':\n",
        "            transaction = create_transaction(order_date, f\"{row['grand_total']:.2f}\", \"Amazon \" + order_id, \"\", category=category[\"grocery\"])\n",
        "        else:\n",
        "            transaction = create_transaction(order_date, f\"{total_amount:.2f}\", payee, memo=row['description'])\n",
        "        transactions.append(transaction)\n",
        "\n",
        "    else:\n",
        "        # For multiple items in the transaction:\n",
        "        # Grocery split amount\n",
        "        grocery_total = group.loc[group['category'] == 'grocery', 'grand_total'].sum()\n",
        "\n",
        "        # Non-grocery splits\n",
        "        non_grocery_splits = []\n",
        "        for _, row in group[group['category'] != 'grocery'].iterrows():\n",
        "          # Ensure row has valid data\n",
        "          if 'description' in row and 'grand_total' in row:\n",
        "            split = create_split(\"\", row['description'], f\"{row['grand_total']:.2f}\")\n",
        "            non_grocery_splits.append(split)\n",
        "\n",
        "        # If grocery total is not zero, add it as a split\n",
        "        if grocery_total != 0:\n",
        "            grocery_split = create_split(category[\"grocery\"], \"\", f\"{grocery_total:.2f}\")\n",
        "            non_grocery_splits.append(grocery_split)\n",
        "\n",
        "        # Create the transaction\n",
        "        transaction = create_transaction(order_date, f\"{total_amount:.2f}\", \"Amazon \" + order_id, \"\", splits=non_grocery_splits)\n",
        "        transactions.append(transaction)\n",
        "\n",
        "# Export the transactions to a QIF file by chunks\n",
        "export_qif_transactions_by_chunk(transactions, 100)\n"
      ]
    }
  ],
  "metadata": {
    "colab": {
      "collapsed_sections": [
        "WtQhVLSHJLlW",
        "C9hy0JM0ARXw",
        "-b15vK3yJTdu",
        "Bmms2dukAbXP"
      ],
      "provenance": [],
      "toc_visible": true,
      "include_colab_link": true
    },
    "kernelspec": {
      "display_name": "Python (Pyodide)",
      "language": "python",
      "name": "python"
    },
    "language_info": {
      "codemirror_mode": {
        "name": "python",
        "version": 3
      },
      "file_extension": ".py",
      "mimetype": "text/x-python",
      "name": "python",
      "nbconvert_exporter": "python",
      "pygments_lexer": "ipython3",
      "version": "3.8"
    },
    "widgets": {
      "application/vnd.jupyter.widget-state+json": {
        "0e87401dfb2a42ebb3a0379aff9fa4cc": {
          "model_module": "@jupyter-widgets/controls",
          "model_name": "VBoxModel",
          "model_module_version": "1.5.0",
          "state": {
            "_dom_classes": [],
            "_model_module": "@jupyter-widgets/controls",
            "_model_module_version": "1.5.0",
            "_model_name": "VBoxModel",
            "_view_count": null,
            "_view_module": "@jupyter-widgets/controls",
            "_view_module_version": "1.5.0",
            "_view_name": "VBoxView",
            "box_style": "",
            "children": [
              "IPY_MODEL_ee7436fd20854e5d9273cae84cf8747e",
              "IPY_MODEL_a5c287021db342588bc1747a04561db6"
            ],
            "layout": "IPY_MODEL_b1ce0446b982407fa6771561d291ad63"
          }
        },
        "ee7436fd20854e5d9273cae84cf8747e": {
          "model_module": "@jupyter-widgets/controls",
          "model_name": "HBoxModel",
          "model_module_version": "1.5.0",
          "state": {
            "_dom_classes": [],
            "_model_module": "@jupyter-widgets/controls",
            "_model_module_version": "1.5.0",
            "_model_name": "HBoxModel",
            "_view_count": null,
            "_view_module": "@jupyter-widgets/controls",
            "_view_module_version": "1.5.0",
            "_view_name": "HBoxView",
            "box_style": "",
            "children": [
              "IPY_MODEL_fbd25c08b74942148f66a29ee335dce1",
              "IPY_MODEL_ab14845d19de4dd39db5f5ea7203a331",
              "IPY_MODEL_cecd5f3b7c894bcdaa3e7d4f2d28ed6f"
            ],
            "layout": "IPY_MODEL_fc89b6a1cf7c44a4b2060e48ff138805"
          }
        },
        "a5c287021db342588bc1747a04561db6": {
          "model_module": "@jupyter-widgets/controls",
          "model_name": "ButtonModel",
          "model_module_version": "1.5.0",
          "state": {
            "_dom_classes": [],
            "_model_module": "@jupyter-widgets/controls",
            "_model_module_version": "1.5.0",
            "_model_name": "ButtonModel",
            "_view_count": null,
            "_view_module": "@jupyter-widgets/controls",
            "_view_module_version": "1.5.0",
            "_view_name": "ButtonView",
            "button_style": "",
            "description": "Submit Feedback",
            "disabled": false,
            "icon": "",
            "layout": "IPY_MODEL_08650ddaa5814328b1ace30aabf3caff",
            "style": "IPY_MODEL_739ad7019dd44eb7a4c5682e002c9244",
            "tooltip": ""
          }
        },
        "b1ce0446b982407fa6771561d291ad63": {
          "model_module": "@jupyter-widgets/base",
          "model_name": "LayoutModel",
          "model_module_version": "1.2.0",
          "state": {
            "_model_module": "@jupyter-widgets/base",
            "_model_module_version": "1.2.0",
            "_model_name": "LayoutModel",
            "_view_count": null,
            "_view_module": "@jupyter-widgets/base",
            "_view_module_version": "1.2.0",
            "_view_name": "LayoutView",
            "align_content": null,
            "align_items": null,
            "align_self": null,
            "border": null,
            "bottom": null,
            "display": null,
            "flex": null,
            "flex_flow": null,
            "grid_area": null,
            "grid_auto_columns": null,
            "grid_auto_flow": null,
            "grid_auto_rows": null,
            "grid_column": null,
            "grid_gap": null,
            "grid_row": null,
            "grid_template_areas": null,
            "grid_template_columns": null,
            "grid_template_rows": null,
            "height": null,
            "justify_content": null,
            "justify_items": null,
            "left": null,
            "margin": null,
            "max_height": null,
            "max_width": null,
            "min_height": null,
            "min_width": null,
            "object_fit": null,
            "object_position": null,
            "order": null,
            "overflow": null,
            "overflow_x": null,
            "overflow_y": null,
            "padding": null,
            "right": null,
            "top": null,
            "visibility": null,
            "width": null
          }
        },
        "fbd25c08b74942148f66a29ee335dce1": {
          "model_module": "@jupyter-widgets/controls",
          "model_name": "ButtonModel",
          "model_module_version": "1.5.0",
          "state": {
            "_dom_classes": [],
            "_model_module": "@jupyter-widgets/controls",
            "_model_module_version": "1.5.0",
            "_model_name": "ButtonModel",
            "_view_count": null,
            "_view_module": "@jupyter-widgets/controls",
            "_view_module_version": "1.5.0",
            "_view_name": "ButtonView",
            "button_style": "",
            "description": "Accept all",
            "disabled": false,
            "icon": "",
            "layout": "IPY_MODEL_8f99149dc0424593be003a106d653da3",
            "style": "IPY_MODEL_dafd611cb58e4df892323a0676301d00",
            "tooltip": ""
          }
        },
        "ab14845d19de4dd39db5f5ea7203a331": {
          "model_module": "@jupyter-widgets/controls",
          "model_name": "ButtonModel",
          "model_module_version": "1.5.0",
          "state": {
            "_dom_classes": [],
            "_model_module": "@jupyter-widgets/controls",
            "_model_module_version": "1.5.0",
            "_model_name": "ButtonModel",
            "_view_count": null,
            "_view_module": "@jupyter-widgets/controls",
            "_view_module_version": "1.5.0",
            "_view_name": "ButtonView",
            "button_style": "",
            "description": "Remove from DF all",
            "disabled": false,
            "icon": "",
            "layout": "IPY_MODEL_92c2832598cd42c588d15a4e7a3d01a7",
            "style": "IPY_MODEL_756a9c8148cb4bdfaec3a1f9da88451a",
            "tooltip": ""
          }
        },
        "cecd5f3b7c894bcdaa3e7d4f2d28ed6f": {
          "model_module": "@jupyter-widgets/controls",
          "model_name": "ButtonModel",
          "model_module_version": "1.5.0",
          "state": {
            "_dom_classes": [],
            "_model_module": "@jupyter-widgets/controls",
            "_model_module_version": "1.5.0",
            "_model_name": "ButtonModel",
            "_view_count": null,
            "_view_module": "@jupyter-widgets/controls",
            "_view_module_version": "1.5.0",
            "_view_name": "ButtonView",
            "button_style": "",
            "description": "All into review",
            "disabled": false,
            "icon": "",
            "layout": "IPY_MODEL_55acbb659f3047f29adbff6eb12fe951",
            "style": "IPY_MODEL_4dc1f7ed19a746669c4b1dc7f1434e14",
            "tooltip": ""
          }
        },
        "fc89b6a1cf7c44a4b2060e48ff138805": {
          "model_module": "@jupyter-widgets/base",
          "model_name": "LayoutModel",
          "model_module_version": "1.2.0",
          "state": {
            "_model_module": "@jupyter-widgets/base",
            "_model_module_version": "1.2.0",
            "_model_name": "LayoutModel",
            "_view_count": null,
            "_view_module": "@jupyter-widgets/base",
            "_view_module_version": "1.2.0",
            "_view_name": "LayoutView",
            "align_content": null,
            "align_items": null,
            "align_self": null,
            "border": null,
            "bottom": null,
            "display": null,
            "flex": null,
            "flex_flow": null,
            "grid_area": null,
            "grid_auto_columns": null,
            "grid_auto_flow": null,
            "grid_auto_rows": null,
            "grid_column": null,
            "grid_gap": null,
            "grid_row": null,
            "grid_template_areas": null,
            "grid_template_columns": null,
            "grid_template_rows": null,
            "height": null,
            "justify_content": null,
            "justify_items": null,
            "left": null,
            "margin": null,
            "max_height": null,
            "max_width": null,
            "min_height": null,
            "min_width": null,
            "object_fit": null,
            "object_position": null,
            "order": null,
            "overflow": null,
            "overflow_x": null,
            "overflow_y": null,
            "padding": null,
            "right": null,
            "top": null,
            "visibility": null,
            "width": null
          }
        },
        "08650ddaa5814328b1ace30aabf3caff": {
          "model_module": "@jupyter-widgets/base",
          "model_name": "LayoutModel",
          "model_module_version": "1.2.0",
          "state": {
            "_model_module": "@jupyter-widgets/base",
            "_model_module_version": "1.2.0",
            "_model_name": "LayoutModel",
            "_view_count": null,
            "_view_module": "@jupyter-widgets/base",
            "_view_module_version": "1.2.0",
            "_view_name": "LayoutView",
            "align_content": null,
            "align_items": null,
            "align_self": null,
            "border": null,
            "bottom": null,
            "display": null,
            "flex": null,
            "flex_flow": null,
            "grid_area": null,
            "grid_auto_columns": null,
            "grid_auto_flow": null,
            "grid_auto_rows": null,
            "grid_column": null,
            "grid_gap": null,
            "grid_row": null,
            "grid_template_areas": null,
            "grid_template_columns": null,
            "grid_template_rows": null,
            "height": null,
            "justify_content": null,
            "justify_items": null,
            "left": null,
            "margin": null,
            "max_height": null,
            "max_width": null,
            "min_height": null,
            "min_width": null,
            "object_fit": null,
            "object_position": null,
            "order": null,
            "overflow": null,
            "overflow_x": null,
            "overflow_y": null,
            "padding": null,
            "right": null,
            "top": null,
            "visibility": null,
            "width": null
          }
        },
        "739ad7019dd44eb7a4c5682e002c9244": {
          "model_module": "@jupyter-widgets/controls",
          "model_name": "ButtonStyleModel",
          "model_module_version": "1.5.0",
          "state": {
            "_model_module": "@jupyter-widgets/controls",
            "_model_module_version": "1.5.0",
            "_model_name": "ButtonStyleModel",
            "_view_count": null,
            "_view_module": "@jupyter-widgets/base",
            "_view_module_version": "1.2.0",
            "_view_name": "StyleView",
            "button_color": null,
            "font_weight": ""
          }
        },
        "8f99149dc0424593be003a106d653da3": {
          "model_module": "@jupyter-widgets/base",
          "model_name": "LayoutModel",
          "model_module_version": "1.2.0",
          "state": {
            "_model_module": "@jupyter-widgets/base",
            "_model_module_version": "1.2.0",
            "_model_name": "LayoutModel",
            "_view_count": null,
            "_view_module": "@jupyter-widgets/base",
            "_view_module_version": "1.2.0",
            "_view_name": "LayoutView",
            "align_content": null,
            "align_items": null,
            "align_self": null,
            "border": null,
            "bottom": null,
            "display": null,
            "flex": null,
            "flex_flow": null,
            "grid_area": null,
            "grid_auto_columns": null,
            "grid_auto_flow": null,
            "grid_auto_rows": null,
            "grid_column": null,
            "grid_gap": null,
            "grid_row": null,
            "grid_template_areas": null,
            "grid_template_columns": null,
            "grid_template_rows": null,
            "height": null,
            "justify_content": null,
            "justify_items": null,
            "left": null,
            "margin": null,
            "max_height": null,
            "max_width": null,
            "min_height": null,
            "min_width": null,
            "object_fit": null,
            "object_position": null,
            "order": null,
            "overflow": null,
            "overflow_x": null,
            "overflow_y": null,
            "padding": null,
            "right": null,
            "top": null,
            "visibility": null,
            "width": null
          }
        },
        "dafd611cb58e4df892323a0676301d00": {
          "model_module": "@jupyter-widgets/controls",
          "model_name": "ButtonStyleModel",
          "model_module_version": "1.5.0",
          "state": {
            "_model_module": "@jupyter-widgets/controls",
            "_model_module_version": "1.5.0",
            "_model_name": "ButtonStyleModel",
            "_view_count": null,
            "_view_module": "@jupyter-widgets/base",
            "_view_module_version": "1.2.0",
            "_view_name": "StyleView",
            "button_color": null,
            "font_weight": ""
          }
        },
        "92c2832598cd42c588d15a4e7a3d01a7": {
          "model_module": "@jupyter-widgets/base",
          "model_name": "LayoutModel",
          "model_module_version": "1.2.0",
          "state": {
            "_model_module": "@jupyter-widgets/base",
            "_model_module_version": "1.2.0",
            "_model_name": "LayoutModel",
            "_view_count": null,
            "_view_module": "@jupyter-widgets/base",
            "_view_module_version": "1.2.0",
            "_view_name": "LayoutView",
            "align_content": null,
            "align_items": null,
            "align_self": null,
            "border": null,
            "bottom": null,
            "display": null,
            "flex": null,
            "flex_flow": null,
            "grid_area": null,
            "grid_auto_columns": null,
            "grid_auto_flow": null,
            "grid_auto_rows": null,
            "grid_column": null,
            "grid_gap": null,
            "grid_row": null,
            "grid_template_areas": null,
            "grid_template_columns": null,
            "grid_template_rows": null,
            "height": null,
            "justify_content": null,
            "justify_items": null,
            "left": null,
            "margin": null,
            "max_height": null,
            "max_width": null,
            "min_height": null,
            "min_width": null,
            "object_fit": null,
            "object_position": null,
            "order": null,
            "overflow": null,
            "overflow_x": null,
            "overflow_y": null,
            "padding": null,
            "right": null,
            "top": null,
            "visibility": null,
            "width": null
          }
        },
        "756a9c8148cb4bdfaec3a1f9da88451a": {
          "model_module": "@jupyter-widgets/controls",
          "model_name": "ButtonStyleModel",
          "model_module_version": "1.5.0",
          "state": {
            "_model_module": "@jupyter-widgets/controls",
            "_model_module_version": "1.5.0",
            "_model_name": "ButtonStyleModel",
            "_view_count": null,
            "_view_module": "@jupyter-widgets/base",
            "_view_module_version": "1.2.0",
            "_view_name": "StyleView",
            "button_color": null,
            "font_weight": ""
          }
        },
        "55acbb659f3047f29adbff6eb12fe951": {
          "model_module": "@jupyter-widgets/base",
          "model_name": "LayoutModel",
          "model_module_version": "1.2.0",
          "state": {
            "_model_module": "@jupyter-widgets/base",
            "_model_module_version": "1.2.0",
            "_model_name": "LayoutModel",
            "_view_count": null,
            "_view_module": "@jupyter-widgets/base",
            "_view_module_version": "1.2.0",
            "_view_name": "LayoutView",
            "align_content": null,
            "align_items": null,
            "align_self": null,
            "border": null,
            "bottom": null,
            "display": null,
            "flex": null,
            "flex_flow": null,
            "grid_area": null,
            "grid_auto_columns": null,
            "grid_auto_flow": null,
            "grid_auto_rows": null,
            "grid_column": null,
            "grid_gap": null,
            "grid_row": null,
            "grid_template_areas": null,
            "grid_template_columns": null,
            "grid_template_rows": null,
            "height": null,
            "justify_content": null,
            "justify_items": null,
            "left": null,
            "margin": null,
            "max_height": null,
            "max_width": null,
            "min_height": null,
            "min_width": null,
            "object_fit": null,
            "object_position": null,
            "order": null,
            "overflow": null,
            "overflow_x": null,
            "overflow_y": null,
            "padding": null,
            "right": null,
            "top": null,
            "visibility": null,
            "width": null
          }
        },
        "4dc1f7ed19a746669c4b1dc7f1434e14": {
          "model_module": "@jupyter-widgets/controls",
          "model_name": "ButtonStyleModel",
          "model_module_version": "1.5.0",
          "state": {
            "_model_module": "@jupyter-widgets/controls",
            "_model_module_version": "1.5.0",
            "_model_name": "ButtonStyleModel",
            "_view_count": null,
            "_view_module": "@jupyter-widgets/base",
            "_view_module_version": "1.2.0",
            "_view_name": "StyleView",
            "button_color": null,
            "font_weight": ""
          }
        }
      }
    }
  },
  "nbformat": 4,
  "nbformat_minor": 0
}